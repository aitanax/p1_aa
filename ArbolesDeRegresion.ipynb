{
 "cells": [
  {
   "cell_type": "markdown",
   "metadata": {},
   "source": [
    "# Árboles de Regresion Entrenamiento"
   ]
  },
  {
   "cell_type": "code",
   "execution_count": 88,
   "metadata": {},
   "outputs": [],
   "source": [
    "import pandas as pd\n",
    "import numpy as np\n",
    "import time\n",
    "from sklearn.model_selection import train_test_split\n",
    "from sklearn.preprocessing import MinMaxScaler\n",
    "from sklearn.preprocessing import RobustScaler\n",
    "from sklearn.preprocessing import StandardScaler\n",
    "from sklearn.tree import DecisionTreeRegressor\n",
    "from sklearn import tree\n",
    "from sklearn import metrics\n",
    "from math import sqrt\n",
    "import matplotlib.pyplot as plt\n",
    "from sklearn.metrics import mean_squared_error\n",
    "from sklearn.metrics import mean_absolute_error\n",
    "from sklearn.model_selection import GridSearchCV\n",
    "from sklearn.model_selection import TimeSeriesSplit\n",
    "from sklearn.pipeline import Pipeline"
   ]
  },
  {
   "cell_type": "markdown",
   "metadata": {},
   "source": [
    "Como siempre, realizamos los cambios necesarios para poder trabajar con los datos que nos interesan:"
   ]
  },
  {
   "cell_type": "code",
   "execution_count": 89,
   "metadata": {},
   "outputs": [
    {
     "data": {
      "text/plain": [
       "Datetime                                             datetime64[ns]\n",
       "Vertical integral of temperature                            float64\n",
       "Vertical integral of water vapour                           float64\n",
       "Convective available potential energy                       float64\n",
       "Vertical integral of divergence of kinetic energy           float64\n",
       "Leaf area index, low vegetation                             float64\n",
       "Leaf area index, high vegetation                            float64\n",
       "Neutral wind at 10 m u-component                            float64\n",
       "Neutral wind at 10 m v-component                            float64\n",
       "Surface pressure                                            float64\n",
       "Soil temperature level 1                                    float64\n",
       "10 metre U wind component                                   float64\n",
       "10 metre V wind component                                   float64\n",
       "2 metre temperature                                         float64\n",
       "Soil temperature level 2                                    float64\n",
       "Soil temperature level 3                                    float64\n",
       "Instantaneous eastward turbulent surface stress             float64\n",
       "Instantaneous northward turbulent surface                   float64\n",
       "Soil temperature level 4                                    float64\n",
       "Forecast surface roughness                                  float64\n",
       "Forecast logarithm of surface roughness for heat            float64\n",
       "100 metre U wind component                                  float64\n",
       "100 metre V wind component                                  float64\n",
       "Energy                                                      float64\n",
       "dtype: object"
      ]
     },
     "execution_count": 89,
     "metadata": {},
     "output_type": "execute_result"
    }
   ],
   "source": [
    "wind_ava = pd.read_csv('wind_ava.csv.gz', compression=\"gzip\", sep=\",\")\n",
    "\n",
    "sotavento_columns = [col for col in wind_ava.columns if \".13\" in col]\n",
    "sotavento_columns.insert(0, \"datetime\")\n",
    "sotavento_columns.append(\"energy\")\n",
    "wind_ava_sotavento = wind_ava[sotavento_columns]\n",
    "\n",
    "wind_ava_sotavento = wind_ava_sotavento.rename(columns = {\n",
    "    \"energy\": \"Energy\", \n",
    "    \"datetime\": \"Datetime\", \n",
    "    \"p54.162.13\": \"Vertical integral of temperature\", \n",
    "    \"p55.162.13\": \"Vertical integral of water vapour\", \n",
    "    \"cape.13\": \"Convective available potential energy\", \n",
    "    \"p59.162.13\": \"Vertical integral of divergence of kinetic energy\", \n",
    "    \"lai_lv.13\": \"Leaf area index, low vegetation\", \n",
    "    \"lai_hv.13\": \"Leaf area index, high vegetation\", \n",
    "    \"u10n.13\": \"Neutral wind at 10 m u-component\", \n",
    "    \"v10n.13\": \"Neutral wind at 10 m v-component\", \n",
    "    \"sp.13\": \"Surface pressure\",\n",
    "    \"stl1.13\": \"Soil temperature level 1\",\n",
    "    \"u10.13\": \"10 metre U wind component\",\n",
    "    \"v10.13\": \"10 metre V wind component\",\n",
    "    \"t2m.13\": \"2 metre temperature\", \n",
    "    \"stl2.13\": \"Soil temperature level 2\", \n",
    "    \"stl3.13\": \"Soil temperature level 3\", \n",
    "    \"iews.13\": \"Instantaneous eastward turbulent surface stress\",\n",
    "    \"inss.13\": \"Instantaneous northward turbulent surface\", \n",
    "    \"stl4.13\": \"Soil temperature level 4\", \n",
    "    \"fsr.13\": \"Forecast surface roughness\", \n",
    "    \"flsr.13\": \"Forecast logarithm of surface roughness for heat\",\n",
    "    \"u100.13\": \"100 metre U wind component\",\n",
    "    \"v100.13\": \"100 metre V wind component\", })\n",
    "\n",
    "wind_ava_sotavento[\"Datetime\"] = pd.to_datetime(wind_ava_sotavento[\"Datetime\"])\n",
    "wind_ava_sotavento.dtypes"
   ]
  },
  {
   "cell_type": "code",
   "execution_count": 90,
   "metadata": {},
   "outputs": [
    {
     "name": "stdout",
     "output_type": "stream",
     "text": [
      "Número de filas duplicadas:  (0, 24)\n",
      "Número de filas nulas:  (0, 24)\n"
     ]
    }
   ],
   "source": [
    "duplicate_rows = wind_ava_sotavento[wind_ava_sotavento.duplicated()]\n",
    "print(\"Número de filas duplicadas: \", duplicate_rows.shape)\n",
    "null_rows = wind_ava_sotavento[wind_ava_sotavento.isnull().any(axis=1)]\n",
    "print(\"Número de filas nulas: \", null_rows.shape)"
   ]
  },
  {
   "cell_type": "markdown",
   "metadata": {},
   "source": [
    "Definimos el train y test:"
   ]
  },
  {
   "cell_type": "code",
   "execution_count": 91,
   "metadata": {},
   "outputs": [
    {
     "name": "stdout",
     "output_type": "stream",
     "text": [
      "<class 'pandas.core.frame.DataFrame'>\n",
      "RangeIndex: 4748 entries, 0 to 4747\n",
      "Data columns (total 24 columns):\n",
      " #   Column                                             Non-Null Count  Dtype  \n",
      "---  ------                                             --------------  -----  \n",
      " 0   Vertical integral of temperature                   4748 non-null   float64\n",
      " 1   Vertical integral of water vapour                  4748 non-null   float64\n",
      " 2   Convective available potential energy              4748 non-null   float64\n",
      " 3   Vertical integral of divergence of kinetic energy  4748 non-null   float64\n",
      " 4   Leaf area index, low vegetation                    4748 non-null   float64\n",
      " 5   Leaf area index, high vegetation                   4748 non-null   float64\n",
      " 6   Neutral wind at 10 m u-component                   4748 non-null   float64\n",
      " 7   Neutral wind at 10 m v-component                   4748 non-null   float64\n",
      " 8   Surface pressure                                   4748 non-null   float64\n",
      " 9   Soil temperature level 1                           4748 non-null   float64\n",
      " 10  10 metre U wind component                          4748 non-null   float64\n",
      " 11  10 metre V wind component                          4748 non-null   float64\n",
      " 12  2 metre temperature                                4748 non-null   float64\n",
      " 13  Soil temperature level 2                           4748 non-null   float64\n",
      " 14  Soil temperature level 3                           4748 non-null   float64\n",
      " 15  Instantaneous eastward turbulent surface stress    4748 non-null   float64\n",
      " 16  Instantaneous northward turbulent surface          4748 non-null   float64\n",
      " 17  Soil temperature level 4                           4748 non-null   float64\n",
      " 18  Forecast surface roughness                         4748 non-null   float64\n",
      " 19  Forecast logarithm of surface roughness for heat   4748 non-null   float64\n",
      " 20  100 metre U wind component                         4748 non-null   float64\n",
      " 21  100 metre V wind component                         4748 non-null   float64\n",
      " 22  Month                                              4748 non-null   int32  \n",
      " 23  Year                                               4748 non-null   int32  \n",
      "dtypes: float64(22), int32(2)\n",
      "memory usage: 853.3 KB\n",
      "<class 'pandas.core.series.Series'>\n",
      "RangeIndex: 4748 entries, 0 to 4747\n",
      "Series name: Energy\n",
      "Non-Null Count  Dtype  \n",
      "--------------  -----  \n",
      "4748 non-null   float64\n",
      "dtypes: float64(1)\n",
      "memory usage: 37.2 KB\n"
     ]
    }
   ],
   "source": [
    "import copy\n",
    "\n",
    "# Dividir la columna 'Datetime' en dos nuevas columnas: 'fecha' y 'año'\n",
    "wind_ava_sotavento['Month'] = wind_ava_sotavento['Datetime'].dt.month\n",
    "wind_ava_sotavento['Year'] = wind_ava_sotavento['Datetime'].dt.year\n",
    "\n",
    "# Eliminar la columna 'Datetime'\n",
    "wind_ava_sotavento.drop(columns=['Datetime'], inplace=True)\n",
    "# Ordenar el DataFrame wind_ava_sotavento por 'Datetime'\n",
    "wind_ava_sotavento.sort_values(by=['Year', 'Month'], inplace=True)\n",
    "# Crear una copia profunda del DataFrame wind_ava_sotavento\n",
    "dataset_1 = copy.deepcopy(wind_ava_sotavento)\n",
    "# Eliminar la columna 'Energy' de dataset_1\n",
    "del dataset_1['Energy']\n",
    "# Crear una copia profunda del DataFrame wind_ava_sotavento\n",
    "dataset_3 = copy.deepcopy(wind_ava_sotavento)\n",
    "dataset_2 = dataset_3[\"Energy\"]\n",
    "dataset_1.info()\n",
    "dataset_2.info()\n",
    "\n",
    "x_train, x_test, y_train, y_test = train_test_split(dataset_1, dataset_2, test_size=0.33, random_state=42)\n",
    "\n"
   ]
  },
  {
   "cell_type": "markdown",
   "metadata": {},
   "source": [
    "# Evaluación con hiperparámetros por omisión"
   ]
  },
  {
   "cell_type": "code",
   "execution_count": 92,
   "metadata": {},
   "outputs": [
    {
     "name": "stdout",
     "output_type": "stream",
     "text": [
      "El modelo Tree Regressor con hiperparámetros por omisión ha obtenido una media de resultado de 0.42\n",
      "Como errores:\n",
      "\tRMSE\t= 506.22364654096356\n",
      "\tMAE\t= 355.086362476069\n",
      "El tiempo de ejecucion ha sido de 0.09136533737182617\n"
     ]
    }
   ],
   "source": [
    "x_train, x_test, y_train, y_test = train_test_split(dataset_1, dataset_2, test_size=0.33, random_state=42)\n",
    "\n",
    "# Creamos la clase de árbol de regresión\n",
    "t_inicio = time.time()\n",
    "\n",
    "regr = tree.DecisionTreeRegressor()\n",
    "\n",
    "regr.fit(x_train,y_train) # Se entrena el modelo\n",
    "accuracy_train_og = regr.score(x_test, y_test)  # Se obtiene el resultado de aciertos\n",
    "t_fin = time.time()\n",
    "\n",
    "print('El modelo Tree Regressor con hiperparámetros por omisión ha obtenido una media de resultado de {:.2f}'.format(accuracy_train_og))\n",
    "\n",
    "# Miramos sus errores\n",
    "prediction = regr.predict(x_test)\n",
    "error_rmse_og = sqrt(mean_squared_error(y_test, prediction))\n",
    "error_mae_og = mean_absolute_error(y_test, prediction)\n",
    "print('Como errores:\\n\\tRMSE\\t= {}\\n\\tMAE\\t= {}'.format(error_rmse_og, error_mae_og))\n",
    "t_og = t_fin - t_inicio\n",
    "print('El tiempo de ejecucion ha sido de {}'.format(t_og))"
   ]
  },
  {
   "cell_type": "markdown",
   "metadata": {},
   "source": [
    "Observación de los resultados:"
   ]
  },
  {
   "cell_type": "markdown",
   "metadata": {},
   "source": [
    "# Análisis de Escalados"
   ]
  },
  {
   "cell_type": "markdown",
   "metadata": {},
   "source": [
    "Planteamos de dos formas la posible elección de escalado:\n",
    "- Una evalación de DecissionTreeRegressor por método de escalado\n",
    "- Pipeline"
   ]
  },
  {
   "cell_type": "markdown",
   "metadata": {},
   "source": [
    "1. Una evalación de DecissionTreeRegressor por método de escalado"
   ]
  },
  {
   "cell_type": "markdown",
   "metadata": {},
   "source": [
    "# MinMax"
   ]
  },
  {
   "cell_type": "code",
   "execution_count": 93,
   "metadata": {},
   "outputs": [
    {
     "name": "stdout",
     "output_type": "stream",
     "text": [
      "El modelo Tree Regressor con escalado MinMax ha obtenido una media de resultado de 0.44\n",
      "Como errores:\n",
      "\tRMSE\t= 1282.4002426026414\n",
      "\tMAE\t= 1035.1375877472879\n",
      "El tiempo de ejecucion ha sido de 0.08980727195739746\n"
     ]
    },
    {
     "name": "stderr",
     "output_type": "stream",
     "text": [
      "c:\\Users\\aitan\\AppData\\Local\\Programs\\Python\\Python310\\lib\\site-packages\\sklearn\\base.py:486: UserWarning: X has feature names, but DecisionTreeRegressor was fitted without feature names\n",
      "  warnings.warn(\n"
     ]
    }
   ],
   "source": [
    "# Escalamos con MinMax de un rango entre 0 y 1\n",
    "scaler_minmax = MinMaxScaler(feature_range=(0, 1))\n",
    "x_train_minmax = scaler_minmax.fit_transform(x_train)\n",
    "x_test_minmax = scaler_minmax.transform(x_test)\n",
    "\n",
    "# Entrenamos el modelo\n",
    "t_inicio = time.time() # Guardamos el tiempo inicial\n",
    "regr = tree.DecisionTreeRegressor()\n",
    "np.random.seed(42)  # Para la toma de decisión entre varios puntos\n",
    "regr.fit(x_train_minmax,y_train) # Se entrena el modelo\n",
    "accuracy_train_minmax = regr.score(x_test_minmax, y_test)  # Se obtiene el resultado de aciertos\n",
    "t_fin = time.time() # Guardamos el tiempo final\n",
    "print('El modelo Tree Regressor con escalado MinMax ha obtenido una media de resultado de {:.2f}'.format(accuracy_train_minmax))\n",
    "# Miramos sus errores\n",
    "prediction = regr.predict(x_test)\n",
    "error_rmse_minmax = sqrt(mean_squared_error(y_test, prediction))\n",
    "error_mae_minmax = mean_absolute_error(y_test, prediction)\n",
    "print('Como errores:\\n\\tRMSE\\t= {}\\n\\tMAE\\t= {}'.format(error_rmse_minmax, error_mae_minmax))\n",
    "t_minmax = t_fin - t_inicio\n",
    "print('El tiempo de ejecucion ha sido de {}'.format(t_minmax))"
   ]
  },
  {
   "cell_type": "markdown",
   "metadata": {},
   "source": [
    "# Estandarización"
   ]
  },
  {
   "cell_type": "code",
   "execution_count": 94,
   "metadata": {},
   "outputs": [
    {
     "name": "stdout",
     "output_type": "stream",
     "text": [
      "El modelo Tree Regressor con escalado estándar ha obtenido una media de resultado de 0.44\n",
      "Como errores:\n",
      "\tRMSE\t= 1146.9599514541724\n",
      "\tMAE\t= 938.1385513720484\n",
      "El tiempo de ejecucion ha sido de 0.09071660041809082\n"
     ]
    },
    {
     "name": "stderr",
     "output_type": "stream",
     "text": [
      "c:\\Users\\aitan\\AppData\\Local\\Programs\\Python\\Python310\\lib\\site-packages\\sklearn\\base.py:486: UserWarning: X has feature names, but DecisionTreeRegressor was fitted without feature names\n",
      "  warnings.warn(\n"
     ]
    }
   ],
   "source": [
    "# Escalamos con estandarización\n",
    "scaler_standard = StandardScaler()\n",
    "x_train_standard = scaler_standard.fit_transform(x_train)\n",
    "x_test_standard = scaler_standard.transform(x_test)\n",
    "\n",
    "# Entrenamos el modelo\n",
    "t_inicio = time.time() # Guardamos el tiempo inicial\n",
    "regr = tree.DecisionTreeRegressor()\n",
    "np.random.seed(42)  # Para la toma de decisión entre varios puntos\n",
    "regr.fit(x_train_standard,y_train) # Se entrena el modelo\n",
    "accuracy_train_standard= regr.score(x_test_standard, y_test)  # Se obtiene el resultado de aciertos\n",
    "t_fin = time.time() # Guardamos el tiempo final\n",
    "print('El modelo Tree Regressor con escalado estándar ha obtenido una media de resultado de {:.2f}'.format(accuracy_train_standard))\n",
    "# Miramos sus errores\n",
    "prediction = regr.predict(x_test)\n",
    "error_rmse_standard = sqrt(mean_squared_error(y_test, prediction))\n",
    "error_mae_standard = mean_absolute_error(y_test, prediction)\n",
    "print('Como errores:\\n\\tRMSE\\t= {}\\n\\tMAE\\t= {}'.format(error_rmse_standard, error_mae_standard))\n",
    "t_standard = t_fin - t_inicio\n",
    "print('El tiempo de ejecucion ha sido de {}'.format(t_standard))"
   ]
  },
  {
   "cell_type": "markdown",
   "metadata": {},
   "source": [
    "# Robusto"
   ]
  },
  {
   "cell_type": "code",
   "execution_count": 95,
   "metadata": {},
   "outputs": [
    {
     "name": "stdout",
     "output_type": "stream",
     "text": [
      "El modelo Tree Regressor con escalado robusto ha obtenido una media de resultado de 0.44\n",
      "Como errores:\n",
      "\tRMSE\t= 1204.4260368200044\n",
      "\tMAE\t= 985.9001978302488\n",
      "El tiempo de ejecucion ha sido de 0.1236567497253418\n"
     ]
    },
    {
     "name": "stderr",
     "output_type": "stream",
     "text": [
      "c:\\Users\\aitan\\AppData\\Local\\Programs\\Python\\Python310\\lib\\site-packages\\sklearn\\base.py:486: UserWarning: X has feature names, but DecisionTreeRegressor was fitted without feature names\n",
      "  warnings.warn(\n"
     ]
    }
   ],
   "source": [
    "# Escalamos con escalado robusto\n",
    "scaler_robust = RobustScaler()\n",
    "x_train_robust = scaler_robust.fit_transform(x_train)\n",
    "x_test_robust = scaler_robust.transform(x_test)\n",
    "\n",
    "# Entrenamos el modelo\n",
    "t_inicio = time.time() # Guardamos el tiempo inicial\n",
    "regr = tree.DecisionTreeRegressor()\n",
    "np.random.seed(42)  # Para la toma de decisión entre varios puntos\n",
    "regr.fit(x_train_robust,y_train) # Se entrena el modelo\n",
    "accuracy_train_robust= regr.score(x_test_robust, y_test)  # Se obtiene el resultado de aciertos\n",
    "t_fin = time.time() # Guardamos el tiempo final\n",
    "print('El modelo Tree Regressor con escalado robusto ha obtenido una media de resultado de {:.2f}'.format(accuracy_train_robust))\n",
    "# Miramos sus errores\n",
    "prediction = regr.predict(x_test)\n",
    "error_rmse_robust = sqrt(mean_squared_error(y_test, prediction))\n",
    "error_mae_robust = mean_absolute_error(y_test, prediction)\n",
    "print('Como errores:\\n\\tRMSE\\t= {}\\n\\tMAE\\t= {}'.format(error_rmse_robust, error_mae_robust))\n",
    "t_robust = t_fin - t_inicio\n",
    "print('El tiempo de ejecucion ha sido de {}'.format(t_robust))"
   ]
  },
  {
   "cell_type": "markdown",
   "metadata": {},
   "source": [
    "Observación de datos al completo:"
   ]
  },
  {
   "cell_type": "code",
   "execution_count": 96,
   "metadata": {},
   "outputs": [
    {
     "name": "stdout",
     "output_type": "stream",
     "text": [
      "El modelo Tree Regressor con hiperparámetros por omisión ha obtenido una media de resultado de 0.42\n",
      "Como errores:\n",
      "\tRMSE\t= 506.22364654096356\n",
      "\tMAE\t= 355.086362476069\n",
      "El tiempo de ejecucion  con hiperparámetros por omisión ha sido de 0.09136533737182617\n",
      "\n",
      "El modelo Tree Regressor con escalado MinMax ha obtenido una media de resultado de 0.44\n",
      "Como errores:\n",
      "\tRMSE\t= 1282.4002426026414\n",
      "\tMAE\t= 1035.1375877472879\n",
      "El tiempo de ejecucion  con escalado MinMax ha sido de 0.08980727195739746\n",
      "\n",
      "El modelo Tree Regressor con escalado estándar ha obtenido una media de resultado de 0.44\n",
      "Como errores:\n",
      "\tRMSE\t= 1146.9599514541724\n",
      "\tMAE\t= 938.1385513720484\n",
      "El tiempo de ejecucion  on escalado estándar ha sido de 0.09071660041809082\n",
      "\n",
      "El modelo Tree Regressor con escalado robusto ha obtenido una media de resultado de 0.44\n",
      "Como errores:\n",
      "\tRMSE\t= 1204.4260368200044\n",
      "\tMAE\t= 985.9001978302488\n",
      "El tiempo de ejecucion  con escalado robusto ha sido de 0.1236567497253418\n"
     ]
    }
   ],
   "source": [
    "print('El modelo Tree Regressor con hiperparámetros por omisión ha obtenido una media de resultado de {:.2f}'.format(accuracy_train_og))\n",
    "print('Como errores:\\n\\tRMSE\\t= {}\\n\\tMAE\\t= {}'.format(error_rmse_og, error_mae_og))\n",
    "print('El tiempo de ejecucion  con hiperparámetros por omisión ha sido de {}'.format(t_og))\n",
    "print(\"\")\n",
    "print('El modelo Tree Regressor con escalado MinMax ha obtenido una media de resultado de {:.2f}'.format(accuracy_train_minmax))\n",
    "print('Como errores:\\n\\tRMSE\\t= {}\\n\\tMAE\\t= {}'.format(error_rmse_minmax, error_mae_minmax))\n",
    "print('El tiempo de ejecucion  con escalado MinMax ha sido de {}'.format(t_minmax))\n",
    "print(\"\")\n",
    "print('El modelo Tree Regressor con escalado estándar ha obtenido una media de resultado de {:.2f}'.format(accuracy_train_standard))\n",
    "print('Como errores:\\n\\tRMSE\\t= {}\\n\\tMAE\\t= {}'.format(error_rmse_standard, error_mae_standard))\n",
    "print('El tiempo de ejecucion  on escalado estándar ha sido de {}'.format(t_standard))\n",
    "print(\"\")\n",
    "print('El modelo Tree Regressor con escalado robusto ha obtenido una media de resultado de {:.2f}'.format(accuracy_train_robust))\n",
    "print('Como errores:\\n\\tRMSE\\t= {}\\n\\tMAE\\t= {}'.format(error_rmse_robust, error_mae_robust))\n",
    "print('El tiempo de ejecucion  con escalado robusto ha sido de {}'.format(t_robust))"
   ]
  },
  {
   "cell_type": "markdown",
   "metadata": {},
   "source": [
    "2. Evalucion con Pipeline\n",
    "\n",
    "Ademas ya nos devuelve la profundidad con la que podriamos trabajar."
   ]
  },
  {
   "cell_type": "code",
   "execution_count": 97,
   "metadata": {},
   "outputs": [
    {
     "name": "stdout",
     "output_type": "stream",
     "text": [
      "Mejores parámetros:  {'regressor__max_depth': 5, 'scaler': RobustScaler()}\n",
      "RMSE:  425.64383488314513\n"
     ]
    }
   ],
   "source": [
    "# Definir el pipeline\n",
    "pipe = Pipeline([\n",
    "    ('scaler', StandardScaler()),\n",
    "    ('regressor', DecisionTreeRegressor())\n",
    "])\n",
    "\n",
    "# Definir el grid de parámetros\n",
    "param_grid = {\n",
    "    'scaler': [StandardScaler(), MinMaxScaler(), RobustScaler()],\n",
    "    'regressor__max_depth': [3, 5, 6, 9]\n",
    "}\n",
    "\n",
    "# Definir la división de series temporales\n",
    "tscv = TimeSeriesSplit(n_splits=5)\n",
    "\n",
    "# Realizar la búsqueda en la grilla con la división de series temporales\n",
    "grid_search = GridSearchCV(pipe, param_grid, cv=tscv, scoring='neg_mean_squared_error')\n",
    "grid_search.fit(x_train, y_train)\n",
    "\n",
    "# Imprimir los mejores parámetros\n",
    "print(\"Mejores parámetros: \", grid_search.best_params_)\n",
    "\n",
    "# Obtener el mejor modelo\n",
    "best_model = grid_search.best_estimator_\n",
    "\n",
    "# Realizar predicciones\n",
    "y_pred = best_model.predict(x_test)\n",
    "\n",
    "# Calcular e imprimir la métrica de rendimiento (RMSE)\n",
    "print(\"RMSE: \", sqrt(mean_squared_error(y_test, y_pred)))"
   ]
  },
  {
   "cell_type": "markdown",
   "metadata": {},
   "source": [
    "Vamos a realizar los estudios de otra forma un poco más gráfica para que se vea más claro todo:"
   ]
  },
  {
   "cell_type": "code",
   "execution_count": 98,
   "metadata": {},
   "outputs": [],
   "source": [
    "posible_depth = [1, 2, 3, 4, 5, 6, None]\n",
    "errors_rmse_depth = []\n",
    "errors_mae_depth = []\n",
    "scores_depth = []\n",
    "times_depth = []\n",
    "\n",
    "# Probamos con las diferentes profundidaes\n",
    "for max_depth in posible_depth:\n",
    "  # Entrenamos el modelo\n",
    "  t_inicio = time.time() # Guardamos el tiempo inicial\n",
    "  regr = tree.DecisionTreeRegressor(max_depth = max_depth)\n",
    "\n",
    "  regr.fit(x_train,y_train) # Se entrena el modelo\n",
    "  accuracy_train_max_depth= regr.score(x_test, y_test)  # Se obtiene el resultado de aciertos\n",
    "  t_fin = time.time() # Guardamos el tiempo final\n",
    "  # Miramos sus errores\n",
    "  prediction = regr.predict(x_test)\n",
    "  error_rmse_max_depth = sqrt(mean_squared_error(y_test, prediction))\n",
    "  error_mae_max_depth = mean_absolute_error(y_test, prediction)\n",
    "  time_max_depth = t_fin-t_inicio\n",
    "  #Añadimos los resultados a nuestras listas\n",
    "  errors_rmse_depth.append(error_rmse_max_depth)\n",
    "  errors_mae_depth.append(error_mae_max_depth)\n",
    "  scores_depth.append(accuracy_train_max_depth)\n",
    "  times_depth.append(time_max_depth)"
   ]
  },
  {
   "cell_type": "code",
   "execution_count": 99,
   "metadata": {},
   "outputs": [
    {
     "name": "stdout",
     "output_type": "stream",
     "text": [
      "Mayor score (max_depth = 6 ; index = 5):\n",
      "\tScore\t= 0.5964539694898632\n",
      "\tRMSE\t= 421.93825206182515\n",
      "\tMAE\t= 304.0323080782675\n",
      "\tTime\t= 0.036339759826660156\n",
      "Menor rmse (max_depth = 6 ; index = 5):\n",
      "\tScore\t= 0.5964539694898632\n",
      "\tRMSE\t= 421.93825206182515\n",
      "\tMAE\t= 304.0323080782675\n",
      "\tTime\t= 0.036339759826660156\n",
      "Menor mae (max_depth = 6 ; index = 5):\n",
      "\tScore\t= 0.5964539694898632\n",
      "\tRMSE\t= 421.93825206182515\n",
      "\tMAE\t= 304.0323080782675\n",
      "\tTime\t= 0.036339759826660156\n",
      "Menor tiempo (max_depth = 1 ; index = 0):\n",
      "\tScore\t= 0.2901745407802633\n",
      "\tRMSE\t= 559.6005666662326\n",
      "\tMAE\t= 449.16756764057124\n",
      "\tTime\t= 0.011177301406860352\n"
     ]
    }
   ],
   "source": [
    "index = scores_depth.index(max(scores_depth))\n",
    "print('Mayor score (max_depth = {} ; index = {}):\\n\\tScore\\t= {}\\n\\tRMSE\\t= {}\\n\\tMAE\\t= {}\\n\\tTime\\t= {}'.format(posible_depth[index], index, scores_depth[index], errors_rmse_depth[index], errors_mae_depth[index], times_depth[index]))\n",
    "index = errors_rmse_depth.index(min(errors_rmse_depth))\n",
    "print('Menor rmse (max_depth = {} ; index = {}):\\n\\tScore\\t= {}\\n\\tRMSE\\t= {}\\n\\tMAE\\t= {}\\n\\tTime\\t= {}'.format(posible_depth[index], index, scores_depth[index], errors_rmse_depth[index], errors_mae_depth[index], times_depth[index]))\n",
    "index = errors_mae_depth.index(min(errors_mae_depth))\n",
    "print('Menor mae (max_depth = {} ; index = {}):\\n\\tScore\\t= {}\\n\\tRMSE\\t= {}\\n\\tMAE\\t= {}\\n\\tTime\\t= {}'.format(posible_depth[index], index, scores_depth[index], errors_rmse_depth[index], errors_mae_depth[index], times_depth[index]))\n",
    "index = times_depth.index(min(times_depth))\n",
    "print('Menor tiempo (max_depth = {} ; index = {}):\\n\\tScore\\t= {}\\n\\tRMSE\\t= {}\\n\\tMAE\\t= {}\\n\\tTime\\t= {}'.format(posible_depth[index], index, scores_depth[index], errors_rmse_depth[index], errors_mae_depth[index], times_depth[index]))"
   ]
  },
  {
   "cell_type": "markdown",
   "metadata": {},
   "source": [
    "Observamos que con una profundidad máxima de 6 todo estaría perfecto."
   ]
  },
  {
   "cell_type": "markdown",
   "metadata": {},
   "source": [
    "Ahora necesitamos definir el número adecuado de muestras, tal que:"
   ]
  },
  {
   "cell_type": "code",
   "execution_count": 100,
   "metadata": {},
   "outputs": [],
   "source": [
    "posible_samples = range(0,300,5)\n",
    "errors_rmse_samples = []\n",
    "errors_mae_samples = []\n",
    "scores_samples = []\n",
    "times_samples = []\n",
    "\n",
    "# Probamos con las diferentes números\n",
    "for min_samples in posible_samples:\n",
    "  if min_samples == 0:\n",
    "    min_samples = 2  \n",
    "  # Entrenamos el modelo\n",
    "  t_inicio = time.time() # Guardamos el tiempo inicial\n",
    "  regr = tree.DecisionTreeRegressor(min_samples_split = min_samples)\n",
    "\n",
    "  regr.fit(x_train,y_train) # Se entrena el modelo\n",
    "  accuracy_train_min_samples= regr.score(x_test, y_test)  # Se obtiene el resultado de aciertos\n",
    "  t_fin = time.time() # Guardamos el tiempo final\n",
    "  # Miramos sus errores\n",
    "  prediction = regr.predict(x_test)\n",
    "  error_rmse_min_samples = sqrt(mean_squared_error(y_test, prediction))\n",
    "  error_mae_min_samples = mean_absolute_error(y_test, prediction)\n",
    "  time_min_samples = t_fin - t_inicio\n",
    "  #Añadimos los resultados a nuestras listas\n",
    "  errors_rmse_samples.append(error_rmse_min_samples)\n",
    "  errors_mae_samples.append(error_mae_min_samples)\n",
    "  scores_samples.append(accuracy_train_min_samples)\n",
    "  times_samples.append(time_min_samples)\n",
    "  "
   ]
  },
  {
   "cell_type": "code",
   "execution_count": 101,
   "metadata": {},
   "outputs": [
    {
     "name": "stdout",
     "output_type": "stream",
     "text": [
      "Mayor score (min_samples = 180 ; index = 36):\n",
      "\tScore\t= 0.6315800372512748\n",
      "\tRMSE\t= 403.15675109727295\n",
      "\tMAE\t= 292.87404194530126\n",
      "\tTime\t= 0.04605388641357422\n",
      "Menor rmse (min_samples = 180 ; index = 36):\n",
      "\tScore\t= 0.6315800372512748\n",
      "\tRMSE\t= 403.15675109727295\n",
      "\tMAE\t= 292.87404194530126\n",
      "\tTime\t= 0.04605388641357422\n",
      "Menor mae (min_samples = 140 ; index = 28):\n",
      "\tScore\t= 0.6285259273447613\n",
      "\tRMSE\t= 404.8243368854992\n",
      "\tMAE\t= 291.5037122162846\n",
      "\tTime\t= 0.05170893669128418\n",
      "Menor tiempo (min_samples = 265 ; index = 53):\n",
      "\tScore\t= 0.6239228084821655\n",
      "\tRMSE\t= 407.32480384022296\n",
      "\tMAE\t= 295.4677302599913\n",
      "\tTime\t= 0.041639089584350586\n"
     ]
    }
   ],
   "source": [
    "index = scores_samples.index(max(scores_samples))\n",
    "print('Mayor score (min_samples = {} ; index = {}):\\n\\tScore\\t= {}\\n\\tRMSE\\t= {}\\n\\tMAE\\t= {}\\n\\tTime\\t= {}'.format(posible_samples[index], index, scores_samples[index], errors_rmse_samples[index], errors_mae_samples[index], times_samples[index]))\n",
    "index = errors_rmse_samples.index(min(errors_rmse_samples))\n",
    "print('Menor rmse (min_samples = {} ; index = {}):\\n\\tScore\\t= {}\\n\\tRMSE\\t= {}\\n\\tMAE\\t= {}\\n\\tTime\\t= {}'.format(posible_samples[index], index, scores_samples[index], errors_rmse_samples[index], errors_mae_samples[index], times_samples[index]))\n",
    "index = errors_mae_samples.index(min(errors_mae_samples))\n",
    "print('Menor mae (min_samples = {} ; index = {}):\\n\\tScore\\t= {}\\n\\tRMSE\\t= {}\\n\\tMAE\\t= {}\\n\\tTime\\t= {}'.format(posible_samples[index], index, scores_samples[index], errors_rmse_samples[index], errors_mae_samples[index], times_samples[index]))\n",
    "index = times_samples.index(min(times_samples))\n",
    "print('Menor tiempo (min_samples = {} ; index = {}):\\n\\tScore\\t= {}\\n\\tRMSE\\t= {}\\n\\tMAE\\t= {}\\n\\tTime\\t= {}'.format(posible_samples[index], index, scores_samples[index], errors_rmse_samples[index], errors_mae_samples[index], times_samples[index]))"
   ]
  },
  {
   "cell_type": "markdown",
   "metadata": {},
   "source": [
    "Representación gráfica de los errores:"
   ]
  },
  {
   "cell_type": "code",
   "execution_count": 102,
   "metadata": {},
   "outputs": [
    {
     "data": {
      "image/png": "[encoded data removed]",
      "text/plain": [
       "<Figure size 600x384 with 1 Axes>"
      ]
     },
     "metadata": {},
     "output_type": "display_data"
    }
   ],
   "source": [
    "fig, ax = plt.subplots(figsize=(6, 3.84))\n",
    "ax.plot(posible_samples, errors_rmse_samples, label=\"RMSE\")\n",
    "ax.plot(posible_samples[errors_rmse_samples.index(min(errors_rmse_samples))], min(errors_rmse_samples),\n",
    "        marker='o', color = \"red\", label=\"MIN RMSE\")\n",
    "ax.plot(posible_samples, errors_mae_samples, label=\"MAE\")\n",
    "ax.plot(posible_samples[errors_mae_samples.index(min(errors_mae_samples))], min(errors_mae_samples),\n",
    "        marker='o', color = \"blue\", label=\"MIN MAE\")\n",
    "ax.set_xlabel(\"Número de muestras mínimas\")\n",
    "ax.set_ylabel(\"Error\")\n",
    "ax.set_title(\"Evolución con n_features del MAE vs RMSE\")\n",
    "plt.legend();"
   ]
  },
  {
   "cell_type": "markdown",
   "metadata": {},
   "source": [
    "Finalmente, nos centraremos en las impurezas:"
   ]
  },
  {
   "cell_type": "code",
   "execution_count": 103,
   "metadata": {},
   "outputs": [],
   "source": [
    "posible_imp = [0,0.1,0.2,0.3,0.4,0.5,0.6,0.7,0.8,0.9,1,1.1,1.2,1.3,1.4,1.5,1.6,1.7,1.8,1.9,2]\n",
    "errors_rmse_imp = []\n",
    "errors_mae_imp = []\n",
    "scores_imp = []\n",
    "times_imp = []\n",
    "\n",
    "# Probamos con las diferentes números\n",
    "for min_impurity in posible_imp:\n",
    "  # Entrenamos el modelo\n",
    "  t_inicio = time.time() # Guardamos el tiempo inicial\n",
    "  regr = tree.DecisionTreeRegressor(min_impurity_decrease=min_impurity)\n",
    "  np.random.seed(42)  # Para la toma de decisión entre varios puntos\n",
    "  regr.fit(x_train,y_train) # Se entrena el modelo\n",
    "  accuracy_train_min_impurity= regr.score(x_test, y_test)  # Se obtiene el resultado de aciertos\n",
    "  t_fin = time.time() # Guardamos el tiempo final\n",
    "  # Miramos sus errores\n",
    "  prediction = regr.predict(x_test)\n",
    "  error_rmse_min_impurity = sqrt(mean_squared_error(y_test, prediction))\n",
    "  error_mae_min_impurity = mean_absolute_error(y_test, prediction)\n",
    "  time_min_impurity = t_fin - t_inicio\n",
    "  #Añadimos los resultados a nuestras listas\n",
    "  errors_rmse_imp.append(error_rmse_min_impurity)\n",
    "  errors_mae_imp.append(error_mae_min_impurity)\n",
    "  scores_imp.append(accuracy_train_min_impurity)\n",
    "  times_imp.append(time_min_impurity)"
   ]
  },
  {
   "cell_type": "code",
   "execution_count": 104,
   "metadata": {},
   "outputs": [
    {
     "name": "stdout",
     "output_type": "stream",
     "text": [
      "Mayor score (min_impurity = 0 ; index = 0):\n",
      "\tScore\t= 0.4392070344657638\n",
      "\tRMSE\t= 497.39754592994154\n",
      "\tMAE\t= 348.86375239310786\n",
      "\tTime\t= 0.09382224082946777\n",
      "Menor rmse (min_impurity = 0 ; index = 0):\n",
      "\tScore\t= 0.4392070344657638\n",
      "\tRMSE\t= 497.39754592994154\n",
      "\tMAE\t= 348.86375239310786\n",
      "\tTime\t= 0.09382224082946777\n",
      "Menor mae (min_impurity = 1.1 ; index = 11):\n",
      "\tScore\t= 0.43507128878465295\n",
      "\tRMSE\t= 499.2282848099913\n",
      "\tMAE\t= 347.69734759865617\n",
      "\tTime\t= 0.08809185028076172\n",
      "Menor tiempo (min_impurity = 1.8 ; index = 18):\n",
      "\tScore\t= 0.42410360392060287\n",
      "\tRMSE\t= 504.05106876543834\n",
      "\tMAE\t= 349.8281901389046\n",
      "\tTime\t= 0.08399724960327148\n"
     ]
    }
   ],
   "source": [
    "index = scores_imp.index(max(scores_imp))\n",
    "print('Mayor score (min_impurity = {} ; index = {}):\\n\\tScore\\t= {}\\n\\tRMSE\\t= {}\\n\\tMAE\\t= {}\\n\\tTime\\t= {}'.format(posible_imp[index], index, scores_imp[index], errors_rmse_imp[index], errors_mae_imp[index], times_imp[index]))\n",
    "index = errors_rmse_imp.index(min(errors_rmse_imp))\n",
    "print('Menor rmse (min_impurity = {} ; index = {}):\\n\\tScore\\t= {}\\n\\tRMSE\\t= {}\\n\\tMAE\\t= {}\\n\\tTime\\t= {}'.format(posible_imp[index], index, scores_imp[index], errors_rmse_imp[index], errors_mae_imp[index], times_imp[index]))\n",
    "index = errors_mae_imp.index(min(errors_mae_imp))\n",
    "print('Menor mae (min_impurity = {} ; index = {}):\\n\\tScore\\t= {}\\n\\tRMSE\\t= {}\\n\\tMAE\\t= {}\\n\\tTime\\t= {}'.format(posible_imp[index], index, scores_imp[index], errors_rmse_imp[index], errors_mae_imp[index], times_imp[index]))\n",
    "index = times_imp.index(min(times_imp))\n",
    "print('Menor tiempo (min_impurity = {} ; index = {}):\\n\\tScore\\t= {}\\n\\tRMSE\\t= {}\\n\\tMAE\\t= {}\\n\\tTime\\t= {}'.format(posible_imp[index], index, scores_imp[index], errors_rmse_imp[index], errors_mae_imp[index], times_imp[index]))"
   ]
  },
  {
   "cell_type": "code",
   "execution_count": 105,
   "metadata": {},
   "outputs": [
    {
     "data": {
      "image/png": "[encoded data removed]",
      "text/plain": [
       "<Figure size 600x384 with 1 Axes>"
      ]
     },
     "metadata": {},
     "output_type": "display_data"
    }
   ],
   "source": [
    "fig, ax = plt.subplots(figsize=(6, 3.84))\n",
    "ax.plot(posible_imp, errors_rmse_imp, label=\"RMSE\")\n",
    "ax.plot(posible_imp[errors_rmse_imp.index(min(errors_rmse_imp))], min(errors_rmse_imp),\n",
    "        marker='o', color = \"red\", label=\"MIN RMSE\")\n",
    "ax.plot(posible_imp, errors_mae_imp, label=\"MAE\")\n",
    "ax.plot(posible_imp[errors_mae_imp.index(min(errors_mae_imp))], min(errors_mae_imp),\n",
    "        marker='o', color = \"blue\", label=\"MIN MAE\")\n",
    "ax.set_xlabel(\"Número de muestras mínimas\")\n",
    "ax.set_ylabel(\"Error\")\n",
    "ax.set_title(\"Evolución con n_features del MAE vs RMSE\")\n",
    "plt.legend();"
   ]
  },
  {
   "cell_type": "markdown",
   "metadata": {},
   "source": [
    "# Hiperparámetros con Cross-Validation"
   ]
  },
  {
   "cell_type": "code",
   "execution_count": 106,
   "metadata": {},
   "outputs": [
    {
     "name": "stdout",
     "output_type": "stream",
     "text": [
      "El modelo de árbol de regresión (max_depth = 6 ; min_samples_split = 140) con un resultado de 0.62\n",
      "Como errores:\n",
      "\tRMSE\t= 408.17255401249093\n",
      "\tMAE\t= 299.71037332762535\n",
      "El tiempo de ejecucion ha sido de 0.20832300186157227\n"
     ]
    }
   ],
   "source": [
    "# Vemos el neighbour mejor con GridSearchCV (cross-validation)\n",
    "params = {'max_depth': [6],\n",
    "          'min_samples_split': [140, 180]}\n",
    "\n",
    "# Creamos el modelo\n",
    "t_inicio = time.time() # Guardamos el tiempo inicial\n",
    "regr = tree.DecisionTreeRegressor()\n",
    "\n",
    "cv = TimeSeriesSplit(n_splits=5)\n",
    "grid = GridSearchCV(regr, params, cv=cv)\n",
    "grid.fit(x_train, y_train)\n",
    "\n",
    "t_fin = time.time() # Guardamos el tiempo final\n",
    "print('El modelo de árbol de regresión (max_depth = {} ; min_samples_split = {}) con un resultado de {:.2f}'\n",
    "      .format(grid.best_params_['max_depth'], grid.best_params_['min_samples_split'], grid.score(x_test, y_test)))\n",
    "# Miramos sus errores\n",
    "prediction = grid.predict(x_test)\n",
    "error_rmse_grid = sqrt(mean_squared_error(y_test, prediction))\n",
    "error_mae_grid = mean_absolute_error(y_test, prediction)\n",
    "print('Como errores:\\n\\tRMSE\\t= {}\\n\\tMAE\\t= {}'.format(error_rmse_grid, error_mae_grid))\n",
    "t_grid = t_fin - t_inicio\n",
    "print('El tiempo de ejecucion ha sido de {}'.format(t_grid))"
   ]
  },
  {
   "cell_type": "markdown",
   "metadata": {},
   "source": [
    "# Conclusión"
   ]
  },
  {
   "cell_type": "markdown",
   "metadata": {},
   "source": [
    "Observamos el paso de un 42% a un 62%, lo que supone una mejora bastante grande"
   ]
  },
  {
   "cell_type": "code",
   "execution_count": 107,
   "metadata": {},
   "outputs": [
    {
     "name": "stdout",
     "output_type": "stream",
     "text": [
      "El modelo de árbol de regresión con un resultado de 0.62\n",
      "Como errores:\n",
      "\tRMSE\t= 408.172554012491\n",
      "\tMAE\t= 299.71037332762535\n",
      "El tiempo de ejecucion ha sido de 0.15401673316955566\n"
     ]
    }
   ],
   "source": [
    "# Vemos el neighbour mejor con GridSearchCV (cross-validation)\n",
    "params = {'max_depth': [6],\n",
    "          'min_samples_split': [140]}\n",
    "\n",
    "# Creamos el modelo\n",
    "t_inicio = time.time() # Guardamos el tiempo inicial\n",
    "regr = tree.DecisionTreeRegressor()\n",
    "np.random.seed(42)  # Para la toma de decisión entre varios puntos\n",
    "cv = TimeSeriesSplit(n_splits=5)\n",
    "\n",
    "grid = GridSearchCV(regr, params, cv=cv)\n",
    "grid.fit(x_train, y_train)\n",
    "t_fin = time.time() # Guardamos el tiempo final\n",
    "accuracy_train_final = grid.score(x_test, y_test)\n",
    "print('El modelo de árbol de regresión con un resultado de {:.2f}'.format(accuracy_train_final))\n",
    "# Miramos sus errores\n",
    "prediction = grid.predict(x_test)\n",
    "error_rmse_final = sqrt(mean_squared_error(y_test, prediction))\n",
    "error_mae_final = mean_absolute_error(y_test, prediction)\n",
    "print('Como errores:\\n\\tRMSE\\t= {}\\n\\tMAE\\t= {}'.format(error_rmse_final, error_mae_final))\n",
    "t_final = t_fin - t_inicio\n",
    "print('El tiempo de ejecucion ha sido de {}'.format(t_final))"
   ]
  },
  {
   "cell_type": "code",
   "execution_count": 108,
   "metadata": {},
   "outputs": [
    {
     "name": "stdout",
     "output_type": "stream",
     "text": [
      "El modelo Tree Regressor con hiperparámetros por omisión ha obtenido una media de resultado de 0.42\n",
      "Como errores:\n",
      "\tRMSE\t= 506.22364654096356\n",
      "\tMAE\t= 355.086362476069\n",
      "El tiempo de ejecucion con hiperparámetros por omisión ha sido de 0.09136533737182617\n",
      "\n",
      "El modelo Tree Regressor final ha obtenido una media de resultado de 0.62\n",
      "Como errores:\n",
      "\tRMSE\t= 408.172554012491\n",
      "\tMAE\t= 299.71037332762535\n",
      "El tiempo de ejecucion final ha sido de 0.15401673316955566\n"
     ]
    }
   ],
   "source": [
    "print('El modelo Tree Regressor con hiperparámetros por omisión ha obtenido una media de resultado de {:.2f}'.format(accuracy_train_og))\n",
    "print('Como errores:\\n\\tRMSE\\t= {}\\n\\tMAE\\t= {}'.format(error_rmse_og, error_mae_og))\n",
    "print('El tiempo de ejecucion con hiperparámetros por omisión ha sido de {}'.format(t_og))\n",
    "print(\"\")\n",
    "print('El modelo Tree Regressor final ha obtenido una media de resultado de {:.2f}'.format(accuracy_train_final))\n",
    "print('Como errores:\\n\\tRMSE\\t= {}\\n\\tMAE\\t= {}'.format(error_rmse_final, error_mae_final))\n",
    "print('El tiempo de ejecucion final ha sido de {}'.format(t_final))"
   ]
  }
 ],
 "metadata": {
  "kernelspec": {
   "display_name": "Python 3",
   "language": "python",
   "name": "python3"
  },
  "language_info": {
   "codemirror_mode": {
    "name": "ipython",
    "version": 3
   },
   "file_extension": ".py",
   "mimetype": "text/x-python",
   "name": "python",
   "nbconvert_exporter": "python",
   "pygments_lexer": "ipython3",
   "version": "3.10.9"
  }
 },
 "nbformat": 4,
 "nbformat_minor": 2
}
