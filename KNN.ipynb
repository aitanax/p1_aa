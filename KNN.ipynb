{
 "cells": [
  {
   "cell_type": "markdown",
   "metadata": {},
   "source": [
    "# KNN ENTRENAMIENTO"
   ]
  },
  {
   "cell_type": "code",
   "execution_count": 113,
   "metadata": {},
   "outputs": [],
   "source": [
    "import pandas as pd\n",
    "import numpy as np\n",
    "import pandas as df\n",
    "import time\n",
    "import matplotlib.pyplot as plt\n",
    "from sklearn.model_selection import train_test_split\n",
    "from sklearn.preprocessing import MinMaxScaler\n",
    "from sklearn.preprocessing import RobustScaler\n",
    "from sklearn.preprocessing import StandardScaler\n",
    "from sklearn.neighbors import KNeighborsRegressor\n",
    "from sklearn import metrics\n",
    "from math import sqrt\n",
    "from sklearn.metrics import mean_squared_error\n",
    "from sklearn.metrics import mean_absolute_error\n",
    "from sklearn.model_selection import GridSearchCV\n",
    "from sklearn.model_selection import TimeSeriesSplit\n",
    "from sklearn.model_selection import cross_val_score\n",
    "from sklearn.pipeline import Pipeline"
   ]
  },
  {
   "cell_type": "markdown",
   "metadata": {},
   "source": [
    "Al igual que cuando planteamos el EDA, preprocesamos los datos y hacemos las subdivisiones adecuadas en datos de entranamiento y test"
   ]
  },
  {
   "cell_type": "code",
   "execution_count": 114,
   "metadata": {},
   "outputs": [],
   "source": [
    "wind_ava = pd.read_csv('wind_ava.csv.gz', compression=\"gzip\", sep=\",\")"
   ]
  },
  {
   "cell_type": "code",
   "execution_count": 115,
   "metadata": {},
   "outputs": [],
   "source": [
    "sotavento_columns = [col for col in wind_ava.columns if \".13\" in col]\n",
    "sotavento_columns.insert(0, \"datetime\")\n",
    "sotavento_columns.append(\"energy\")\n",
    "wind_ava_sotavento = wind_ava[sotavento_columns]"
   ]
  },
  {
   "cell_type": "code",
   "execution_count": 116,
   "metadata": {},
   "outputs": [
    {
     "data": {
      "text/html": [
       "<div>\n",
       "<style scoped>\n",
       "    .dataframe tbody tr th:only-of-type {\n",
       "        vertical-align: middle;\n",
       "    }\n",
       "\n",
       "    .dataframe tbody tr th {\n",
       "        vertical-align: top;\n",
       "    }\n",
       "\n",
       "    .dataframe thead th {\n",
       "        text-align: right;\n",
       "    }\n",
       "</style>\n",
       "<table border=\"1\" class=\"dataframe\">\n",
       "  <thead>\n",
       "    <tr style=\"text-align: right;\">\n",
       "      <th></th>\n",
       "      <th>Datetime</th>\n",
       "      <th>Vertical integral of temperature</th>\n",
       "      <th>Vertical integral of water vapour</th>\n",
       "      <th>Convective available potential energy</th>\n",
       "      <th>Vertical integral of divergence of kinetic energy</th>\n",
       "      <th>Leaf area index, low vegetation</th>\n",
       "      <th>Leaf area index, high vegetation</th>\n",
       "      <th>Neutral wind at 10 m u-component</th>\n",
       "      <th>Neutral wind at 10 m v-component</th>\n",
       "      <th>Surface pressure</th>\n",
       "      <th>...</th>\n",
       "      <th>Soil temperature level 2</th>\n",
       "      <th>Soil temperature level 3</th>\n",
       "      <th>Instantaneous eastward turbulent surface stress</th>\n",
       "      <th>Instantaneous northward turbulent surface</th>\n",
       "      <th>Soil temperature level 4</th>\n",
       "      <th>Forecast surface roughness</th>\n",
       "      <th>Forecast logarithm of surface roughness for heat</th>\n",
       "      <th>100 metre U wind component</th>\n",
       "      <th>100 metre V wind component</th>\n",
       "      <th>Energy</th>\n",
       "    </tr>\n",
       "  </thead>\n",
       "  <tbody>\n",
       "    <tr>\n",
       "      <th>0</th>\n",
       "      <td>2005-01-02 18:00:00</td>\n",
       "      <td>2.510824e+06</td>\n",
       "      <td>9.186295</td>\n",
       "      <td>13.527577</td>\n",
       "      <td>1.386937e+06</td>\n",
       "      <td>2.344111</td>\n",
       "      <td>2.432983</td>\n",
       "      <td>-0.757587</td>\n",
       "      <td>-1.922799</td>\n",
       "      <td>99846.319914</td>\n",
       "      <td>...</td>\n",
       "      <td>281.042026</td>\n",
       "      <td>281.462478</td>\n",
       "      <td>-0.057958</td>\n",
       "      <td>-0.138650</td>\n",
       "      <td>284.684755</td>\n",
       "      <td>0.404731</td>\n",
       "      <td>-5.927092</td>\n",
       "      <td>-1.780562</td>\n",
       "      <td>-4.443617</td>\n",
       "      <td>402.71</td>\n",
       "    </tr>\n",
       "    <tr>\n",
       "      <th>1</th>\n",
       "      <td>2005-01-03 00:00:00</td>\n",
       "      <td>2.513173e+06</td>\n",
       "      <td>8.849569</td>\n",
       "      <td>6.896412</td>\n",
       "      <td>1.153526e+06</td>\n",
       "      <td>2.343719</td>\n",
       "      <td>2.432838</td>\n",
       "      <td>-1.412620</td>\n",
       "      <td>-1.403011</td>\n",
       "      <td>99917.733093</td>\n",
       "      <td>...</td>\n",
       "      <td>280.747406</td>\n",
       "      <td>281.486541</td>\n",
       "      <td>-0.103576</td>\n",
       "      <td>-0.083050</td>\n",
       "      <td>284.667948</td>\n",
       "      <td>0.404920</td>\n",
       "      <td>-5.913881</td>\n",
       "      <td>-3.743344</td>\n",
       "      <td>-3.129469</td>\n",
       "      <td>696.80</td>\n",
       "    </tr>\n",
       "    <tr>\n",
       "      <th>2</th>\n",
       "      <td>2005-01-03 06:00:00</td>\n",
       "      <td>2.509627e+06</td>\n",
       "      <td>7.924080</td>\n",
       "      <td>4.774439</td>\n",
       "      <td>1.098754e+06</td>\n",
       "      <td>2.343300</td>\n",
       "      <td>2.432704</td>\n",
       "      <td>-2.290185</td>\n",
       "      <td>-0.754580</td>\n",
       "      <td>99764.378681</td>\n",
       "      <td>...</td>\n",
       "      <td>280.114863</td>\n",
       "      <td>281.487095</td>\n",
       "      <td>-0.165721</td>\n",
       "      <td>-0.036241</td>\n",
       "      <td>284.651914</td>\n",
       "      <td>0.405704</td>\n",
       "      <td>-5.908272</td>\n",
       "      <td>-5.097203</td>\n",
       "      <td>-1.157748</td>\n",
       "      <td>1591.15</td>\n",
       "    </tr>\n",
       "    <tr>\n",
       "      <th>3</th>\n",
       "      <td>2005-01-03 12:00:00</td>\n",
       "      <td>2.510571e+06</td>\n",
       "      <td>6.922709</td>\n",
       "      <td>0.000000</td>\n",
       "      <td>1.076021e+06</td>\n",
       "      <td>2.342830</td>\n",
       "      <td>2.432514</td>\n",
       "      <td>-3.497855</td>\n",
       "      <td>1.271028</td>\n",
       "      <td>99672.670459</td>\n",
       "      <td>...</td>\n",
       "      <td>279.991138</td>\n",
       "      <td>281.472435</td>\n",
       "      <td>-0.275550</td>\n",
       "      <td>0.098192</td>\n",
       "      <td>284.636266</td>\n",
       "      <td>0.403967</td>\n",
       "      <td>-5.961995</td>\n",
       "      <td>-4.500835</td>\n",
       "      <td>1.502478</td>\n",
       "      <td>1338.62</td>\n",
       "    </tr>\n",
       "    <tr>\n",
       "      <th>4</th>\n",
       "      <td>2005-01-03 18:00:00</td>\n",
       "      <td>2.505664e+06</td>\n",
       "      <td>6.646282</td>\n",
       "      <td>0.000000</td>\n",
       "      <td>1.070830e+06</td>\n",
       "      <td>2.342437</td>\n",
       "      <td>2.432369</td>\n",
       "      <td>-0.971249</td>\n",
       "      <td>0.553060</td>\n",
       "      <td>99372.811211</td>\n",
       "      <td>...</td>\n",
       "      <td>280.576898</td>\n",
       "      <td>281.473265</td>\n",
       "      <td>-0.056553</td>\n",
       "      <td>0.041844</td>\n",
       "      <td>284.620232</td>\n",
       "      <td>0.403808</td>\n",
       "      <td>-5.987860</td>\n",
       "      <td>-3.392324</td>\n",
       "      <td>2.131114</td>\n",
       "      <td>562.50</td>\n",
       "    </tr>\n",
       "  </tbody>\n",
       "</table>\n",
       "<p>5 rows × 24 columns</p>\n",
       "</div>"
      ],
      "text/plain": [
       "              Datetime  Vertical integral of temperature  \\\n",
       "0  2005-01-02 18:00:00                      2.510824e+06   \n",
       "1  2005-01-03 00:00:00                      2.513173e+06   \n",
       "2  2005-01-03 06:00:00                      2.509627e+06   \n",
       "3  2005-01-03 12:00:00                      2.510571e+06   \n",
       "4  2005-01-03 18:00:00                      2.505664e+06   \n",
       "\n",
       "   Vertical integral of water vapour  Convective available potential energy  \\\n",
       "0                           9.186295                              13.527577   \n",
       "1                           8.849569                               6.896412   \n",
       "2                           7.924080                               4.774439   \n",
       "3                           6.922709                               0.000000   \n",
       "4                           6.646282                               0.000000   \n",
       "\n",
       "   Vertical integral of divergence of kinetic energy  \\\n",
       "0                                       1.386937e+06   \n",
       "1                                       1.153526e+06   \n",
       "2                                       1.098754e+06   \n",
       "3                                       1.076021e+06   \n",
       "4                                       1.070830e+06   \n",
       "\n",
       "   Leaf area index, low vegetation  Leaf area index, high vegetation  \\\n",
       "0                         2.344111                          2.432983   \n",
       "1                         2.343719                          2.432838   \n",
       "2                         2.343300                          2.432704   \n",
       "3                         2.342830                          2.432514   \n",
       "4                         2.342437                          2.432369   \n",
       "\n",
       "   Neutral wind at 10 m u-component  Neutral wind at 10 m v-component  \\\n",
       "0                         -0.757587                         -1.922799   \n",
       "1                         -1.412620                         -1.403011   \n",
       "2                         -2.290185                         -0.754580   \n",
       "3                         -3.497855                          1.271028   \n",
       "4                         -0.971249                          0.553060   \n",
       "\n",
       "   Surface pressure  ...  Soil temperature level 2  Soil temperature level 3  \\\n",
       "0      99846.319914  ...                281.042026                281.462478   \n",
       "1      99917.733093  ...                280.747406                281.486541   \n",
       "2      99764.378681  ...                280.114863                281.487095   \n",
       "3      99672.670459  ...                279.991138                281.472435   \n",
       "4      99372.811211  ...                280.576898                281.473265   \n",
       "\n",
       "   Instantaneous eastward turbulent surface stress  \\\n",
       "0                                        -0.057958   \n",
       "1                                        -0.103576   \n",
       "2                                        -0.165721   \n",
       "3                                        -0.275550   \n",
       "4                                        -0.056553   \n",
       "\n",
       "   Instantaneous northward turbulent surface  Soil temperature level 4  \\\n",
       "0                                  -0.138650                284.684755   \n",
       "1                                  -0.083050                284.667948   \n",
       "2                                  -0.036241                284.651914   \n",
       "3                                   0.098192                284.636266   \n",
       "4                                   0.041844                284.620232   \n",
       "\n",
       "   Forecast surface roughness  \\\n",
       "0                    0.404731   \n",
       "1                    0.404920   \n",
       "2                    0.405704   \n",
       "3                    0.403967   \n",
       "4                    0.403808   \n",
       "\n",
       "   Forecast logarithm of surface roughness for heat  \\\n",
       "0                                         -5.927092   \n",
       "1                                         -5.913881   \n",
       "2                                         -5.908272   \n",
       "3                                         -5.961995   \n",
       "4                                         -5.987860   \n",
       "\n",
       "   100 metre U wind component  100 metre V wind component   Energy  \n",
       "0                   -1.780562                   -4.443617   402.71  \n",
       "1                   -3.743344                   -3.129469   696.80  \n",
       "2                   -5.097203                   -1.157748  1591.15  \n",
       "3                   -4.500835                    1.502478  1338.62  \n",
       "4                   -3.392324                    2.131114   562.50  \n",
       "\n",
       "[5 rows x 24 columns]"
      ]
     },
     "execution_count": 116,
     "metadata": {},
     "output_type": "execute_result"
    }
   ],
   "source": [
    "wind_ava_sotavento = wind_ava_sotavento.rename(columns = {\n",
    "    \"energy\": \"Energy\", \n",
    "    \"datetime\": \"Datetime\", \n",
    "    \"p54.162.13\": \"Vertical integral of temperature\", \n",
    "    \"p55.162.13\": \"Vertical integral of water vapour\", \n",
    "    \"cape.13\": \"Convective available potential energy\", \n",
    "    \"p59.162.13\": \"Vertical integral of divergence of kinetic energy\", \n",
    "    \"lai_lv.13\": \"Leaf area index, low vegetation\", \n",
    "    \"lai_hv.13\": \"Leaf area index, high vegetation\", \n",
    "    \"u10n.13\": \"Neutral wind at 10 m u-component\", \n",
    "    \"v10n.13\": \"Neutral wind at 10 m v-component\", \n",
    "    \"sp.13\": \"Surface pressure\",\n",
    "    \"stl1.13\": \"Soil temperature level 1\",\n",
    "    \"u10.13\": \"10 metre U wind component\",\n",
    "    \"v10.13\": \"10 metre V wind component\",\n",
    "    \"t2m.13\": \"2 metre temperature\", \n",
    "    \"stl2.13\": \"Soil temperature level 2\", \n",
    "    \"stl3.13\": \"Soil temperature level 3\", \n",
    "    \"iews.13\": \"Instantaneous eastward turbulent surface stress\",\n",
    "    \"inss.13\": \"Instantaneous northward turbulent surface\", \n",
    "    \"stl4.13\": \"Soil temperature level 4\", \n",
    "    \"fsr.13\": \"Forecast surface roughness\", \n",
    "    \"flsr.13\": \"Forecast logarithm of surface roughness for heat\",\n",
    "    \"u100.13\": \"100 metre U wind component\",\n",
    "    \"v100.13\": \"100 metre V wind component\", })\n",
    "wind_ava_sotavento.head()"
   ]
  },
  {
   "cell_type": "code",
   "execution_count": 117,
   "metadata": {},
   "outputs": [
    {
     "data": {
      "text/plain": [
       "Datetime                                             datetime64[ns]\n",
       "Vertical integral of temperature                            float64\n",
       "Vertical integral of water vapour                           float64\n",
       "Convective available potential energy                       float64\n",
       "Vertical integral of divergence of kinetic energy           float64\n",
       "Leaf area index, low vegetation                             float64\n",
       "Leaf area index, high vegetation                            float64\n",
       "Neutral wind at 10 m u-component                            float64\n",
       "Neutral wind at 10 m v-component                            float64\n",
       "Surface pressure                                            float64\n",
       "Soil temperature level 1                                    float64\n",
       "10 metre U wind component                                   float64\n",
       "10 metre V wind component                                   float64\n",
       "2 metre temperature                                         float64\n",
       "Soil temperature level 2                                    float64\n",
       "Soil temperature level 3                                    float64\n",
       "Instantaneous eastward turbulent surface stress             float64\n",
       "Instantaneous northward turbulent surface                   float64\n",
       "Soil temperature level 4                                    float64\n",
       "Forecast surface roughness                                  float64\n",
       "Forecast logarithm of surface roughness for heat            float64\n",
       "100 metre U wind component                                  float64\n",
       "100 metre V wind component                                  float64\n",
       "Energy                                                      float64\n",
       "dtype: object"
      ]
     },
     "execution_count": 117,
     "metadata": {},
     "output_type": "execute_result"
    }
   ],
   "source": [
    "wind_ava_sotavento[\"Datetime\"] = pd.to_datetime(wind_ava_sotavento[\"Datetime\"])\n",
    "wind_ava_sotavento.dtypes"
   ]
  },
  {
   "cell_type": "code",
   "execution_count": 118,
   "metadata": {},
   "outputs": [
    {
     "name": "stdout",
     "output_type": "stream",
     "text": [
      "Número de filas duplicadas:  (0, 24)\n"
     ]
    }
   ],
   "source": [
    "duplicate_rows = wind_ava_sotavento[wind_ava_sotavento.duplicated()]\n",
    "print(\"Número de filas duplicadas: \", duplicate_rows.shape)"
   ]
  },
  {
   "cell_type": "code",
   "execution_count": 119,
   "metadata": {},
   "outputs": [
    {
     "name": "stdout",
     "output_type": "stream",
     "text": [
      "Número de filas nulas:  (0, 24)\n"
     ]
    }
   ],
   "source": [
    "null_rows = wind_ava_sotavento[wind_ava_sotavento.isnull().any(axis=1)]\n",
    "print(\"Número de filas nulas: \", null_rows.shape)"
   ]
  },
  {
   "cell_type": "code",
   "execution_count": 120,
   "metadata": {},
   "outputs": [
    {
     "name": "stdout",
     "output_type": "stream",
     "text": [
      "<class 'pandas.core.frame.DataFrame'>\n",
      "RangeIndex: 4748 entries, 0 to 4747\n",
      "Data columns (total 24 columns):\n",
      " #   Column                                             Non-Null Count  Dtype  \n",
      "---  ------                                             --------------  -----  \n",
      " 0   Vertical integral of temperature                   4748 non-null   float64\n",
      " 1   Vertical integral of water vapour                  4748 non-null   float64\n",
      " 2   Convective available potential energy              4748 non-null   float64\n",
      " 3   Vertical integral of divergence of kinetic energy  4748 non-null   float64\n",
      " 4   Leaf area index, low vegetation                    4748 non-null   float64\n",
      " 5   Leaf area index, high vegetation                   4748 non-null   float64\n",
      " 6   Neutral wind at 10 m u-component                   4748 non-null   float64\n",
      " 7   Neutral wind at 10 m v-component                   4748 non-null   float64\n",
      " 8   Surface pressure                                   4748 non-null   float64\n",
      " 9   Soil temperature level 1                           4748 non-null   float64\n",
      " 10  10 metre U wind component                          4748 non-null   float64\n",
      " 11  10 metre V wind component                          4748 non-null   float64\n",
      " 12  2 metre temperature                                4748 non-null   float64\n",
      " 13  Soil temperature level 2                           4748 non-null   float64\n",
      " 14  Soil temperature level 3                           4748 non-null   float64\n",
      " 15  Instantaneous eastward turbulent surface stress    4748 non-null   float64\n",
      " 16  Instantaneous northward turbulent surface          4748 non-null   float64\n",
      " 17  Soil temperature level 4                           4748 non-null   float64\n",
      " 18  Forecast surface roughness                         4748 non-null   float64\n",
      " 19  Forecast logarithm of surface roughness for heat   4748 non-null   float64\n",
      " 20  100 metre U wind component                         4748 non-null   float64\n",
      " 21  100 metre V wind component                         4748 non-null   float64\n",
      " 22  Month                                              4748 non-null   int32  \n",
      " 23  Year                                               4748 non-null   int32  \n",
      "dtypes: float64(22), int32(2)\n",
      "memory usage: 853.3 KB\n",
      "<class 'pandas.core.series.Series'>\n",
      "RangeIndex: 4748 entries, 0 to 4747\n",
      "Series name: Energy\n",
      "Non-Null Count  Dtype  \n",
      "--------------  -----  \n",
      "4748 non-null   float64\n",
      "dtypes: float64(1)\n",
      "memory usage: 37.2 KB\n"
     ]
    }
   ],
   "source": [
    "import copy\n",
    "# Dividir la columna 'Datetime' en dos nuevas columnas: 'fecha' y 'año'\n",
    "wind_ava_sotavento['Month'] = wind_ava_sotavento['Datetime'].dt.month\n",
    "wind_ava_sotavento['Year'] = wind_ava_sotavento['Datetime'].dt.year\n",
    "\n",
    "# Eliminar la columna 'Datetime'\n",
    "wind_ava_sotavento.drop(columns=['Datetime'], inplace=True)\n",
    "# Ordenar el DataFrame wind_ava_sotavento por 'Datetime'\n",
    "wind_ava_sotavento.sort_values(by=['Year', 'Month'], inplace=True)\n",
    "# Crear una copia profunda del DataFrame wind_ava_sotavento\n",
    "dataset_1 = copy.deepcopy(wind_ava_sotavento)\n",
    "# Eliminar la columna 'Energy' de dataset_1\n",
    "del dataset_1['Energy']\n",
    "# Crear una copia profunda del DataFrame wind_ava_sotavento\n",
    "dataset_3 = copy.deepcopy(wind_ava_sotavento)\n",
    "dataset_2 = dataset_3[\"Energy\"]\n",
    "dataset_1.info()\n",
    "dataset_2.info()"
   ]
  },
  {
   "cell_type": "code",
   "execution_count": 121,
   "metadata": {},
   "outputs": [
    {
     "name": "stdout",
     "output_type": "stream",
     "text": [
      "<class 'pandas.core.frame.DataFrame'>\n",
      "RangeIndex: 4748 entries, 0 to 4747\n",
      "Data columns (total 24 columns):\n",
      " #   Column                                             Non-Null Count  Dtype  \n",
      "---  ------                                             --------------  -----  \n",
      " 0   Vertical integral of temperature                   4748 non-null   float64\n",
      " 1   Vertical integral of water vapour                  4748 non-null   float64\n",
      " 2   Convective available potential energy              4748 non-null   float64\n",
      " 3   Vertical integral of divergence of kinetic energy  4748 non-null   float64\n",
      " 4   Leaf area index, low vegetation                    4748 non-null   float64\n",
      " 5   Leaf area index, high vegetation                   4748 non-null   float64\n",
      " 6   Neutral wind at 10 m u-component                   4748 non-null   float64\n",
      " 7   Neutral wind at 10 m v-component                   4748 non-null   float64\n",
      " 8   Surface pressure                                   4748 non-null   float64\n",
      " 9   Soil temperature level 1                           4748 non-null   float64\n",
      " 10  10 metre U wind component                          4748 non-null   float64\n",
      " 11  10 metre V wind component                          4748 non-null   float64\n",
      " 12  2 metre temperature                                4748 non-null   float64\n",
      " 13  Soil temperature level 2                           4748 non-null   float64\n",
      " 14  Soil temperature level 3                           4748 non-null   float64\n",
      " 15  Instantaneous eastward turbulent surface stress    4748 non-null   float64\n",
      " 16  Instantaneous northward turbulent surface          4748 non-null   float64\n",
      " 17  Soil temperature level 4                           4748 non-null   float64\n",
      " 18  Forecast surface roughness                         4748 non-null   float64\n",
      " 19  Forecast logarithm of surface roughness for heat   4748 non-null   float64\n",
      " 20  100 metre U wind component                         4748 non-null   float64\n",
      " 21  100 metre V wind component                         4748 non-null   float64\n",
      " 22  Month                                              4748 non-null   int32  \n",
      " 23  Year                                               4748 non-null   int32  \n",
      "dtypes: float64(22), int32(2)\n",
      "memory usage: 853.3 KB\n"
     ]
    }
   ],
   "source": [
    "dataset_1.info()"
   ]
  },
  {
   "cell_type": "markdown",
   "metadata": {},
   "source": [
    "# Evaluación con hiperparámetros por omisión"
   ]
  },
  {
   "cell_type": "markdown",
   "metadata": {},
   "source": [
    "# NO ENTIENDO MUY SI AQUI YA HACEMOS LA EVALUACION CON EL ESCALADOR QUE HEMOS ELEGIDO O SI NO CON KNN"
   ]
  },
  {
   "cell_type": "code",
   "execution_count": 122,
   "metadata": {},
   "outputs": [
    {
     "name": "stdout",
     "output_type": "stream",
     "text": [
      "El modelo KNN con hiperparámetros por omisión ha obtenido una media de resultado de 0.08\n",
      "Como errores:\n",
      "\tRMSE\t= 637.8017280433622\n",
      "\tMAE\t= 498.68136694320356\n",
      "El tiempo de ejecucion ha sido de 0.01699519157409668\n"
     ]
    }
   ],
   "source": [
    "# Para esta evaluación, se usará el modelo KNN con hiperparámetros por omisión.\n",
    "# Se evaluará el modelo con el RMSE y MAE, además de la media de aciertos.\n",
    "# Se evaluará el tiempo de ejecución.\n",
    "# Para ello, establecemos un número de vecinos predeterminado\n",
    "\n",
    "x_train, x_test, y_train, y_test = train_test_split(dataset_1, dataset_2, test_size=0.33, random_state=42)\n",
    "\n",
    "t_inicio = time.time() \n",
    "knn = KNeighborsRegressor()\n",
    "\n",
    "knn.fit(x_train, y_train)\n",
    "accuracy_train_og = knn.score(x_test, y_test) \n",
    "t_fin = time.time()\n",
    "print('El modelo KNN con hiperparámetros por omisión ha obtenido una media de resultado de {:.2f}'.format(accuracy_train_og))\n",
    "\n",
    "# Miramos sus errores\n",
    "prediction = knn.predict(x_test)\n",
    "error_rmse_og = sqrt(mean_squared_error(y_test, prediction))\n",
    "error_mae_og = mean_absolute_error(y_test, prediction)\n",
    "print('Como errores:\\n\\tRMSE\\t= {}\\n\\tMAE\\t= {}'.format(error_rmse_og, error_mae_og))\n",
    "t_og = t_fin - t_inicio\n",
    "print('El tiempo de ejecucion ha sido de {}'.format(t_og))"
   ]
  },
  {
   "cell_type": "code",
   "execution_count": 123,
   "metadata": {},
   "outputs": [
    {
     "name": "stdout",
     "output_type": "stream",
     "text": [
      "El modelo KNN con hiperparámetros por omisión ha obtenido una media de resultado de 0.62\n",
      "Como errores:\n",
      "\tRMSE\t= 411.92\n",
      "\tMAE\t= 298.95\n",
      "El tiempo de ejecucion ha sido de 0.00 segundos\n"
     ]
    }
   ],
   "source": [
    "x_train, x_test, y_train, y_test = train_test_split(dataset_1, dataset_2, test_size=0.33, random_state=42)\n",
    "\n",
    "scaler = StandardScaler()\n",
    "X_train_scaled = scaler.fit_transform(x_train)\n",
    "X_test_scaled = scaler.transform(x_test)\n",
    "\n",
    "# Crear y entrenar el modelo KNN con hiperparámetros por omisión\n",
    "knn = KNeighborsRegressor()\n",
    "t_inicio = time.time() \n",
    "knn.fit(X_train_scaled, y_train)\n",
    "t_fin = time.time()\n",
    "\n",
    "# Evaluar el modelo\n",
    "accuracy_train_og = knn.score(X_test_scaled, y_test)\n",
    "print('El modelo KNN con hiperparámetros por omisión ha obtenido una media de resultado de {:.2f}'.format(accuracy_train_og))\n",
    "\n",
    "# Calcular errores\n",
    "prediction = knn.predict(X_test_scaled)\n",
    "error_rmse_og = sqrt(mean_squared_error(y_test, prediction))\n",
    "error_mae_og = mean_absolute_error(y_test, prediction)\n",
    "print('Como errores:\\n\\tRMSE\\t= {:.2f}\\n\\tMAE\\t= {:.2f}'.format(error_rmse_og, error_mae_og))\n",
    "\n",
    "# Calcular el tiempo de ejecución\n",
    "t_og = t_fin - t_inicio\n",
    "print('El tiempo de ejecucion ha sido de {:.2f} segundos'.format(t_og))"
   ]
  },
  {
   "cell_type": "markdown",
   "metadata": {},
   "source": [
    "# Ajuste de hiperparametros"
   ]
  },
  {
   "cell_type": "markdown",
   "metadata": {},
   "source": [
    "# Escalado"
   ]
  },
  {
   "cell_type": "code",
   "execution_count": 124,
   "metadata": {},
   "outputs": [
    {
     "name": "stdout",
     "output_type": "stream",
     "text": [
      "El modelo KNN con escalado MinMax ha obtenido una media de resultado de 0.57\n",
      "Como errores:\n",
      "\tRMSE\t= 433.1623694099446\n",
      "\tMAE\t= 318.05921888959796\n",
      "El tiempo de ejecucion ha sido de 0.06151771545410156\n"
     ]
    }
   ],
   "source": [
    "# Escalamos con MinMax de un rango entre 0 y 1\n",
    "scaler_minmax = MinMaxScaler(feature_range=(0, 1))\n",
    "x_train_minmax = scaler_minmax.fit_transform(x_train)\n",
    "x_test_minmax = scaler_minmax.transform(x_test)\n",
    "\n",
    "# Entrenamos de la misma manera que sin ajuste de hiperparámetros\n",
    "t_inicio = time.time() # Guardamos el tiempo inicial\n",
    "knn = KNeighborsRegressor()\n",
    "#np.random.seed(42)  # Para la toma de decisión entre varios puntos\n",
    "knn.fit(x_train_minmax, y_train)   # Se entrena el modelo\n",
    "accuracy_train_minmax = knn.score(x_test_minmax, y_test)  # Se obtiene el resultado de aciertos\n",
    "t_fin = time.time() # Guardamos el tiempo final\n",
    "print('El modelo KNN con escalado MinMax ha obtenido una media de resultado de {:.2f}'.format(accuracy_train_minmax))\n",
    "# Miramos sus errores\n",
    "prediction = knn.predict(x_test_minmax)\n",
    "error_rmse_minmax = sqrt(mean_squared_error(y_test, prediction))\n",
    "error_mae_minmax = mean_absolute_error(y_test, prediction)\n",
    "print('Como errores:\\n\\tRMSE\\t= {}\\n\\tMAE\\t= {}'.format(error_rmse_minmax, error_mae_minmax))\n",
    "t_minmax = t_fin - t_inicio\n",
    "print('El tiempo de ejecucion ha sido de {}'.format(t_minmax))\n"
   ]
  },
  {
   "cell_type": "markdown",
   "metadata": {},
   "source": [
    "# Estandarizacion"
   ]
  },
  {
   "cell_type": "code",
   "execution_count": 125,
   "metadata": {},
   "outputs": [
    {
     "name": "stdout",
     "output_type": "stream",
     "text": [
      "El modelo KNN con estandarización por omisión ha obtenido una media de resultado de 0.62\n",
      "Como errores:\n",
      "\tRMSE\t= 411.92377576446233\n",
      "\tMAE\t= 298.94642501595405\n",
      "El tiempo de ejecucion ha sido de 0.012518167495727539\n"
     ]
    }
   ],
   "source": [
    "# Escalamos con estandarización\n",
    "scaler_standard = StandardScaler()\n",
    "x_train_standard = scaler_standard.fit_transform(x_train)\n",
    "x_test_standard = scaler_standard.transform(x_test)\n",
    "\n",
    "# Entrenamos de la misma manera que sin ajuste de hiperparámetros\n",
    "t_inicio = time.time() # Guardamos el tiempo inicial\n",
    "knn = KNeighborsRegressor()\n",
    "#np.random.seed(42)  # Para la toma de decisión entre varios puntos\n",
    "knn.fit(x_train_standard, y_train)   # Se entrena el modelo\n",
    "accuracy_train_standard = knn.score(x_test_standard, y_test)  # Se obtiene el resultado de aciertos\n",
    "t_fin = time.time() # Guardamos el tiempo final\n",
    "print('El modelo KNN con estandarización por omisión ha obtenido una media de resultado de {:.2f}'.format(accuracy_train_standard))\n",
    "# Miramos sus errores\n",
    "prediction = knn.predict(x_test_standard)\n",
    "error_rmse_standard = sqrt(mean_squared_error(y_test, prediction))\n",
    "error_mae_standard = mean_absolute_error(y_test, prediction)\n",
    "\n",
    "print('Como errores:\\n\\tRMSE\\t= {}\\n\\tMAE\\t= {}'.format(error_rmse_standard, error_mae_standard))\n",
    "t_standard = t_fin - t_inicio\n",
    "print('El tiempo de ejecucion ha sido de {}'.format(t_standard))\n",
    "\n"
   ]
  },
  {
   "cell_type": "markdown",
   "metadata": {},
   "source": [
    "# Robusto"
   ]
  },
  {
   "cell_type": "code",
   "execution_count": 126,
   "metadata": {},
   "outputs": [
    {
     "name": "stdout",
     "output_type": "stream",
     "text": [
      "El modelo KNN con escalado robusto ha obtenido una media de resultado de 0.59\n",
      "Como errores:\n",
      "\tRMSE\t= 426.84002794164616\n",
      "\tMAE\t= 310.4702271857052\n",
      "El tiempo de ejecucion ha sido de 0.014000654220581055\n"
     ]
    }
   ],
   "source": [
    "# Se hace un escalado robusto\n",
    "scaler_robust = RobustScaler()\n",
    "x_train_robust = scaler_robust.fit_transform(x_train)\n",
    "x_test_robust = scaler_robust.transform(x_test)\n",
    "\n",
    "# Entrenamos de la misma manera que sin ajuste de hiperparámetros\n",
    "t_inicio = time.time() # Guardamos el tiempo inicial\n",
    "knn = KNeighborsRegressor()\n",
    "#np.random.seed(42)  # Para la toma de decisión entre varios puntos\n",
    "knn.fit(x_train_robust, y_train)   # Se entrena el modelo\n",
    "accuracy_train_robust = knn.score(x_test_robust, y_test)  # Se obtiene el resultado de aciertos\n",
    "t_fin = time.time() # Guardamos el tiempo final\n",
    "print('El modelo KNN con escalado robusto ha obtenido una media de resultado de {:.2f}'.format(accuracy_train_robust))\n",
    "# Miramos sus errores\n",
    "prediction = knn.predict(x_test_robust)\n",
    "error_rmse_robust = sqrt(mean_squared_error(y_test, prediction))\n",
    "error_mae_robust = mean_absolute_error(y_test, prediction)\n",
    "print('Como errores:\\n\\tRMSE\\t= {}\\n\\tMAE\\t= {}'.format(error_rmse_robust, error_mae_robust))\n",
    "t_robust = t_fin - t_inicio\n",
    "print('El tiempo de ejecucion ha sido de {}'.format(t_robust))"
   ]
  },
  {
   "cell_type": "markdown",
   "metadata": {},
   "source": [
    "Imprimimos todos los resultados:"
   ]
  },
  {
   "cell_type": "code",
   "execution_count": 127,
   "metadata": {},
   "outputs": [
    {
     "name": "stdout",
     "output_type": "stream",
     "text": [
      "El modelo KNN con hiperparámetros por omisión ha obtenido una media de resultado de 0.62\n",
      "Como errores:\n",
      "\tRMSE\t= 411.92377576446233\n",
      "\tMAE\t= 298.94642501595405\n",
      "El tiempo de ejecucion ha sido de 0.0\n",
      "\n",
      "El modelo KNN con escalado MinMax ha obtenido una media de resultado de 0.57\n",
      "Como errores:\n",
      "\tRMSE\t= 433.1623694099446\n",
      "\tMAE\t= 318.05921888959796\n",
      "El tiempo de ejecucion ha sido de 0.06151771545410156\n",
      "\n",
      "El modelo KNN con estandarización por omisión ha obtenido una media de resultado de 0.62\n",
      "Como errores:\n",
      "\tRMSE\t= 411.92377576446233\n",
      "\tMAE\t= 298.94642501595405\n",
      "El tiempo de ejecucion ha sido de 0.012518167495727539\n",
      "\n",
      "El modelo KNN con escalado robusto ha obtenido una media de resultado de 0.59\n",
      "Como errores:\n",
      "\tRMSE\t= 426.84002794164616\n",
      "\tMAE\t= 310.4702271857052\n",
      "El tiempo de ejecucion ha sido de 0.014000654220581055\n"
     ]
    }
   ],
   "source": [
    "print('El modelo KNN con hiperparámetros por omisión ha obtenido una media de resultado de {:.2f}'.format(accuracy_train_og))\n",
    "print('Como errores:\\n\\tRMSE\\t= {}\\n\\tMAE\\t= {}'.format(error_rmse_og, error_mae_og))\n",
    "print('El tiempo de ejecucion ha sido de {}'.format(t_og))\n",
    "print(\"\")\n",
    "print('El modelo KNN con escalado MinMax ha obtenido una media de resultado de {:.2f}'.format(accuracy_train_minmax))\n",
    "print('Como errores:\\n\\tRMSE\\t= {}\\n\\tMAE\\t= {}'.format(error_rmse_minmax, error_mae_minmax))\n",
    "print('El tiempo de ejecucion ha sido de {}'.format(t_minmax))\n",
    "print(\"\")\n",
    "print('El modelo KNN con estandarización por omisión ha obtenido una media de resultado de {:.2f}'.format(accuracy_train_standard))\n",
    "print('Como errores:\\n\\tRMSE\\t= {}\\n\\tMAE\\t= {}'.format(error_rmse_standard, error_mae_standard))\n",
    "print('El tiempo de ejecucion ha sido de {}'.format(t_standard))\n",
    "print(\"\")\n",
    "print('El modelo KNN con escalado robusto ha obtenido una media de resultado de {:.2f}'.format(accuracy_train_robust))\n",
    "print('Como errores:\\n\\tRMSE\\t= {}\\n\\tMAE\\t= {}'.format(error_rmse_robust, error_mae_robust))\n",
    "print('El tiempo de ejecucion ha sido de {}'.format(t_robust))"
   ]
  },
  {
   "cell_type": "markdown",
   "metadata": {},
   "source": [
    "EVALUAR SI NECESITAMOS ESTUDIAR:\n",
    "- DISTANCIA DE MAHALANOBIS\n",
    "- ATRIBUTOS IRRELEVANTE\n",
    "- DISTANCIA DE MINKOWSKY"
   ]
  },
  {
   "cell_type": "markdown",
   "metadata": {},
   "source": [
    "# Segunda forma de eleccion de Escalado\n",
    "# Número de vecino"
   ]
  },
  {
   "cell_type": "code",
   "execution_count": 128,
   "metadata": {},
   "outputs": [
    {
     "name": "stdout",
     "output_type": "stream",
     "text": [
      "Mejores parámetros:  {'knn__n_neighbors': 9, 'scaler': StandardScaler()}\n",
      "RMSE:  406.44896186523437\n"
     ]
    }
   ],
   "source": [
    "# Definir el pipeline\n",
    "pipe = Pipeline([\n",
    "    ('scaler', StandardScaler()),\n",
    "    ('knn', KNeighborsRegressor())\n",
    "])\n",
    "\n",
    "# Definir el grid de parámetros\n",
    "param_grid = {\n",
    "    'scaler': [StandardScaler(), MinMaxScaler(), RobustScaler()],\n",
    "    'knn__n_neighbors': [3, 5, 6, 9]\n",
    "}\n",
    "\n",
    "# Definir la división de series temporales\n",
    "tscv = TimeSeriesSplit(n_splits=5)\n",
    "\n",
    "# Realizar la búsqueda en la grilla con la división de series temporales\n",
    "grid_search = GridSearchCV(pipe, param_grid, cv=tscv, scoring='neg_mean_squared_error')\n",
    "grid_search.fit(x_train, y_train)\n",
    "\n",
    "# Imprimir los mejores parámetros\n",
    "print(\"Mejores parámetros: \", grid_search.best_params_)\n",
    "\n",
    "# Obtener el mejor modelo\n",
    "best_model = grid_search.best_estimator_\n",
    "\n",
    "# Realizar predicciones\n",
    "y_pred = best_model.predict(x_test)\n",
    "\n",
    "# Calcular e imprimir la métrica de rendimiento (RMSE)\n",
    "print(\"RMSE: \", sqrt(mean_squared_error(y_test, y_pred)))"
   ]
  },
  {
   "cell_type": "markdown",
   "metadata": {},
   "source": [
    "# Segunda Forma de número de vecino con el Escalado seleccionado (MIRAR)"
   ]
  },
  {
   "cell_type": "code",
   "execution_count": 129,
   "metadata": {},
   "outputs": [
    {
     "name": "stdout",
     "output_type": "stream",
     "text": [
      "El número óptimo de vecinos encontrado es: 9\n",
      "El modelo KNN con 9 vecinos ha obtenido una media de resultado de -165200.76\n",
      "Como errores:\n",
      "\tRMSE\t= 406.45\n",
      "\tMAE\t= 301.03\n",
      "El tiempo de ejecución ha sido de 1.40 segundos\n"
     ]
    }
   ],
   "source": [
    "# Normalizar los datos\n",
    "scaler = StandardScaler()\n",
    "X_train_scaled = scaler.fit_transform(x_train)\n",
    "X_test_scaled = scaler.transform(x_test)\n",
    "\n",
    "# Definir el modelo KNN\n",
    "knn = KNeighborsRegressor()\n",
    "\n",
    "# Definir el espacio de búsqueda de hiperparámetros\n",
    "param_grid = {\n",
    "    'n_neighbors': range(1, 21)\n",
    "}\n",
    "\n",
    "# Inicializar GridSearchCV con TimeSeriesSplit\n",
    "cv = TimeSeriesSplit(n_splits=5)\n",
    "grid_search = GridSearchCV(estimator=knn, param_grid=param_grid, cv=cv, scoring='neg_mean_squared_error')\n",
    "\n",
    "# Entrenar el modelo utilizando GridSearchCV\n",
    "t_inicio = time.time() \n",
    "grid_search.fit(X_train_scaled, y_train)\n",
    "t_fin = time.time()\n",
    "\n",
    "# Obtener el mejor número de vecinos encontrado\n",
    "best_n_neighbors = grid_search.best_params_['n_neighbors']\n",
    "print(\"El número óptimo de vecinos encontrado es:\", best_n_neighbors)\n",
    "\n",
    "# Entrenar el modelo KNN con el número óptimo de vecinos\n",
    "knn_best = KNeighborsRegressor(n_neighbors=best_n_neighbors)\n",
    "knn_best.fit(X_train_scaled, y_train)\n",
    "\n",
    "# Evaluar el modelo en el conjunto de prueba\n",
    "accuracy_best = grid_search.score(X_test_scaled, y_test)\n",
    "print('El modelo KNN con {} vecinos ha obtenido una media de resultado de {:.2f}'.format(best_n_neighbors, accuracy_best))\n",
    "\n",
    "# Calcular errores\n",
    "prediction_best = knn_best.predict(X_test_scaled)\n",
    "error_rmse_best = sqrt(mean_squared_error(y_test, prediction_best))\n",
    "error_mae_best = mean_absolute_error(y_test, prediction_best)\n",
    "print('Como errores:\\n\\tRMSE\\t= {:.2f}\\n\\tMAE\\t= {:.2f}'.format(error_rmse_best, error_mae_best))\n",
    "\n",
    "# Calcular el tiempo de ejecución\n",
    "t_best = t_fin - t_inicio\n",
    "print('El tiempo de ejecución ha sido de {:.2f} segundos'.format(t_best))"
   ]
  },
  {
   "cell_type": "markdown",
   "metadata": {},
   "source": [
    "# Conclusion\n",
    "Pudiendo mejorar mucho más la predicción en 5 puntos."
   ]
  },
  {
   "cell_type": "code",
   "execution_count": 130,
   "metadata": {},
   "outputs": [
    {
     "name": "stdout",
     "output_type": "stream",
     "text": [
      "El modelo KNN  ha obtenido una media de resultado de -165200.76\n",
      "Como errores:\n",
      "\tRMSE\t= 406.45\n",
      "\tMAE\t= 301.03\n",
      "El tiempo de ejecución ha sido de 1.40 segundos\n"
     ]
    }
   ],
   "source": [
    "# Normalizar los datos\n",
    "scaler = StandardScaler()\n",
    "x_train_final = scaler.fit_transform(x_train)\n",
    "x_test_final = scaler.transform(x_test)\n",
    "\n",
    "\n",
    "# Definir el espacio de búsqueda de hiperparámetros\n",
    "param_grid = {\n",
    "    'n_neighbors': [9]\n",
    "}\n",
    "\n",
    "# Creamos el modelo\n",
    "t_inicio = time.time() # Guardamos el tiempo inicial\n",
    "knn = KNeighborsRegressor()\n",
    "\n",
    "cv = TimeSeriesSplit(n_splits=5)\n",
    "\n",
    "grid = GridSearchCV(knn, param_grid, cv=cv)\n",
    "grid.fit(x_train_final, y_train)\n",
    "\n",
    "# Evaluar el modelo en el conjunto de prueba\n",
    "accuracy_train_final = grid.score(x_test_final, y_test)\n",
    "print('El modelo KNN  ha obtenido una media de resultado de {:.2f}'.format(accuracy_best))\n",
    "\n",
    "# Calcular errores\n",
    "prediction_best = knn_best.predict(x_test_final)\n",
    "error_rmse_final = sqrt(mean_squared_error(y_test, prediction_best))\n",
    "error_mae_final = mean_absolute_error(y_test, prediction_best)\n",
    "print('Como errores:\\n\\tRMSE\\t= {:.2f}\\n\\tMAE\\t= {:.2f}'.format(error_rmse_best, error_mae_best))\n",
    "\n",
    "# Calcular el tiempo de ejecución\n",
    "t_final = t_fin - t_inicio\n",
    "print('El tiempo de ejecución ha sido de {:.2f} segundos'.format(t_best))\n",
    "\n"
   ]
  },
  {
   "cell_type": "code",
   "execution_count": 131,
   "metadata": {},
   "outputs": [
    {
     "name": "stdout",
     "output_type": "stream",
     "text": [
      "El modelo KNN con hiperparámetros por omisión ha obtenido una media de resultado de 0.62\n",
      "Como errores:\n",
      "\tRMSE\t= 411.92377576446233\n",
      "\tMAE\t= 298.94642501595405\n",
      "El tiempo de ejecucion ha sido de 0.0\n",
      "\n",
      "El modelo KNN ha obtenido una media de resultado de 0.63\n",
      "Como errores:\n",
      "\tRMSE\t= 406.44896186523437\n",
      "\tMAE\t= 301.02940792739133\n",
      "El tiempo de ejecucion ha sido de -0.051026105880737305\n"
     ]
    }
   ],
   "source": [
    "print('El modelo KNN con hiperparámetros por omisión ha obtenido una media de resultado de {:.2f}'.format(accuracy_train_og))\n",
    "print('Como errores:\\n\\tRMSE\\t= {}\\n\\tMAE\\t= {}'.format(error_rmse_og, error_mae_og))\n",
    "print('El tiempo de ejecucion ha sido de {}'.format(t_og))\n",
    "print(\"\")\n",
    "print('El modelo KNN ha obtenido una media de resultado de {:.2f}'.format(accuracy_train_final))\n",
    "print('Como errores:\\n\\tRMSE\\t= {}\\n\\tMAE\\t= {}'.format(error_rmse_final, error_mae_final))\n",
    "print('El tiempo de ejecucion ha sido de {}'.format(t_final))"
   ]
  },
  {
   "cell_type": "markdown",
   "metadata": {},
   "source": [
    "FIN KNN"
   ]
  }
 ],
 "metadata": {
  "kernelspec": {
   "display_name": "Python 3",
   "language": "python",
   "name": "python3"
  },
  "language_info": {
   "codemirror_mode": {
    "name": "ipython",
    "version": 3
   },
   "file_extension": ".py",
   "mimetype": "text/x-python",
   "name": "python",
   "nbconvert_exporter": "python",
   "pygments_lexer": "ipython3",
   "version": "3.10.9"
  }
 },
 "nbformat": 4,
 "nbformat_minor": 2
}
