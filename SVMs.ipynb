{
 "cells": [
  {
   "cell_type": "markdown",
   "metadata": {},
   "source": [
    "# SVMs Entrenamiento"
   ]
  },
  {
   "cell_type": "code",
   "execution_count": 2,
   "metadata": {},
   "outputs": [],
   "source": [
    "%matplotlib inline\n",
    "import pandas as pd\n",
    "import numpy as np\n",
    "import time\n",
    "import matplotlib.pyplot as plt\n",
    "from sklearn.model_selection import train_test_split\n",
    "from sklearn.preprocessing import MinMaxScaler\n",
    "from sklearn.preprocessing import RobustScaler\n",
    "from sklearn.preprocessing import StandardScaler\n",
    "from sklearn.pipeline import Pipeline\n",
    "from sklearn.model_selection import KFold\n",
    "from sklearn.svm import SVR\n",
    "from sklearn.svm import LinearSVR\n",
    "from sklearn.svm import NuSVR\n",
    "from sklearn import metrics\n",
    "from math import sqrt\n",
    "from sklearn.metrics import mean_squared_error\n",
    "from sklearn.metrics import mean_absolute_error\n",
    "from sklearn.model_selection import GridSearchCV\n",
    "from sklearn.model_selection import TimeSeriesSplit\n",
    "# Para ignorar los warnings\n",
    "from warnings import simplefilter\n",
    "from sklearn.exceptions import ConvergenceWarning\n",
    "simplefilter(\"ignore\", category=ConvergenceWarning)"
   ]
  },
  {
   "cell_type": "code",
   "execution_count": 3,
   "metadata": {},
   "outputs": [
    {
     "data": {
      "text/plain": [
       "Datetime                                             datetime64[ns]\n",
       "Vertical integral of temperature                            float64\n",
       "Vertical integral of water vapour                           float64\n",
       "Convective available potential energy                       float64\n",
       "Vertical integral of divergence of kinetic energy           float64\n",
       "Leaf area index, low vegetation                             float64\n",
       "Leaf area index, high vegetation                            float64\n",
       "Neutral wind at 10 m u-component                            float64\n",
       "Neutral wind at 10 m v-component                            float64\n",
       "Surface pressure                                            float64\n",
       "Soil temperature level 1                                    float64\n",
       "10 metre U wind component                                   float64\n",
       "10 metre V wind component                                   float64\n",
       "2 metre temperature                                         float64\n",
       "Soil temperature level 2                                    float64\n",
       "Soil temperature level 3                                    float64\n",
       "Instantaneous eastward turbulent surface stress             float64\n",
       "Instantaneous northward turbulent surface                   float64\n",
       "Soil temperature level 4                                    float64\n",
       "Forecast surface roughness                                  float64\n",
       "Forecast logarithm of surface roughness for heat            float64\n",
       "100 metre U wind component                                  float64\n",
       "100 metre V wind component                                  float64\n",
       "Energy                                                      float64\n",
       "dtype: object"
      ]
     },
     "execution_count": 3,
     "metadata": {},
     "output_type": "execute_result"
    }
   ],
   "source": [
    "wind_ava = pd.read_csv('wind_ava.csv.gz', compression=\"gzip\", sep=\",\")\n",
    "\n",
    "sotavento_columns = [col for col in wind_ava.columns if \".13\" in col]\n",
    "sotavento_columns.insert(0, \"datetime\")\n",
    "sotavento_columns.append(\"energy\")\n",
    "wind_ava_sotavento = wind_ava[sotavento_columns]\n",
    "\n",
    "wind_ava_sotavento = wind_ava_sotavento.rename(columns = {\n",
    "    \"energy\": \"Energy\", \n",
    "    \"datetime\": \"Datetime\", \n",
    "    \"p54.162.13\": \"Vertical integral of temperature\", \n",
    "    \"p55.162.13\": \"Vertical integral of water vapour\", \n",
    "    \"cape.13\": \"Convective available potential energy\", \n",
    "    \"p59.162.13\": \"Vertical integral of divergence of kinetic energy\", \n",
    "    \"lai_lv.13\": \"Leaf area index, low vegetation\", \n",
    "    \"lai_hv.13\": \"Leaf area index, high vegetation\", \n",
    "    \"u10n.13\": \"Neutral wind at 10 m u-component\", \n",
    "    \"v10n.13\": \"Neutral wind at 10 m v-component\", \n",
    "    \"sp.13\": \"Surface pressure\",\n",
    "    \"stl1.13\": \"Soil temperature level 1\",\n",
    "    \"u10.13\": \"10 metre U wind component\",\n",
    "    \"v10.13\": \"10 metre V wind component\",\n",
    "    \"t2m.13\": \"2 metre temperature\", \n",
    "    \"stl2.13\": \"Soil temperature level 2\", \n",
    "    \"stl3.13\": \"Soil temperature level 3\", \n",
    "    \"iews.13\": \"Instantaneous eastward turbulent surface stress\",\n",
    "    \"inss.13\": \"Instantaneous northward turbulent surface\", \n",
    "    \"stl4.13\": \"Soil temperature level 4\", \n",
    "    \"fsr.13\": \"Forecast surface roughness\", \n",
    "    \"flsr.13\": \"Forecast logarithm of surface roughness for heat\",\n",
    "    \"u100.13\": \"100 metre U wind component\",\n",
    "    \"v100.13\": \"100 metre V wind component\", })\n",
    "\n",
    "wind_ava_sotavento[\"Datetime\"] = pd.to_datetime(wind_ava_sotavento[\"Datetime\"])\n",
    "wind_ava_sotavento.dtypes"
   ]
  },
  {
   "cell_type": "code",
   "execution_count": 4,
   "metadata": {},
   "outputs": [
    {
     "name": "stdout",
     "output_type": "stream",
     "text": [
      "Número de filas duplicadas:  (0, 24)\n",
      "Número de filas nulas:  (0, 24)\n"
     ]
    }
   ],
   "source": [
    "duplicate_rows = wind_ava_sotavento[wind_ava_sotavento.duplicated()]\n",
    "print(\"Número de filas duplicadas: \", duplicate_rows.shape)\n",
    "null_rows = wind_ava_sotavento[wind_ava_sotavento.isnull().any(axis=1)]\n",
    "print(\"Número de filas nulas: \", null_rows.shape)"
   ]
  },
  {
   "cell_type": "code",
   "execution_count": 5,
   "metadata": {},
   "outputs": [
    {
     "name": "stdout",
     "output_type": "stream",
     "text": [
      "<class 'pandas.core.frame.DataFrame'>\n",
      "RangeIndex: 4748 entries, 0 to 4747\n",
      "Data columns (total 24 columns):\n",
      " #   Column                                             Non-Null Count  Dtype  \n",
      "---  ------                                             --------------  -----  \n",
      " 0   Vertical integral of temperature                   4748 non-null   float64\n",
      " 1   Vertical integral of water vapour                  4748 non-null   float64\n",
      " 2   Convective available potential energy              4748 non-null   float64\n",
      " 3   Vertical integral of divergence of kinetic energy  4748 non-null   float64\n",
      " 4   Leaf area index, low vegetation                    4748 non-null   float64\n",
      " 5   Leaf area index, high vegetation                   4748 non-null   float64\n",
      " 6   Neutral wind at 10 m u-component                   4748 non-null   float64\n",
      " 7   Neutral wind at 10 m v-component                   4748 non-null   float64\n",
      " 8   Surface pressure                                   4748 non-null   float64\n",
      " 9   Soil temperature level 1                           4748 non-null   float64\n",
      " 10  10 metre U wind component                          4748 non-null   float64\n",
      " 11  10 metre V wind component                          4748 non-null   float64\n",
      " 12  2 metre temperature                                4748 non-null   float64\n",
      " 13  Soil temperature level 2                           4748 non-null   float64\n",
      " 14  Soil temperature level 3                           4748 non-null   float64\n",
      " 15  Instantaneous eastward turbulent surface stress    4748 non-null   float64\n",
      " 16  Instantaneous northward turbulent surface          4748 non-null   float64\n",
      " 17  Soil temperature level 4                           4748 non-null   float64\n",
      " 18  Forecast surface roughness                         4748 non-null   float64\n",
      " 19  Forecast logarithm of surface roughness for heat   4748 non-null   float64\n",
      " 20  100 metre U wind component                         4748 non-null   float64\n",
      " 21  100 metre V wind component                         4748 non-null   float64\n",
      " 22  Month                                              4748 non-null   int32  \n",
      " 23  Year                                               4748 non-null   int32  \n",
      "dtypes: float64(22), int32(2)\n",
      "memory usage: 853.3 KB\n",
      "<class 'pandas.core.series.Series'>\n",
      "RangeIndex: 4748 entries, 0 to 4747\n",
      "Series name: Energy\n",
      "Non-Null Count  Dtype  \n",
      "--------------  -----  \n",
      "4748 non-null   float64\n",
      "dtypes: float64(1)\n",
      "memory usage: 37.2 KB\n"
     ]
    }
   ],
   "source": [
    "import copy\n",
    "\n",
    "# Dividir la columna 'Datetime' en dos nuevas columnas: 'fecha' y 'año'\n",
    "wind_ava_sotavento['Month'] = wind_ava_sotavento['Datetime'].dt.month\n",
    "wind_ava_sotavento['Year'] = wind_ava_sotavento['Datetime'].dt.year\n",
    "\n",
    "# Eliminar la columna 'Datetime'\n",
    "wind_ava_sotavento.drop(columns=['Datetime'], inplace=True)\n",
    "# Ordenar el DataFrame wind_ava_sotavento por 'Datetime'\n",
    "wind_ava_sotavento.sort_values(by=['Year', 'Month'], inplace=True)\n",
    "# Crear una copia profunda del DataFrame wind_ava_sotavento\n",
    "dataset_1 = copy.deepcopy(wind_ava_sotavento)\n",
    "# Eliminar la columna 'Energy' de dataset_1\n",
    "del dataset_1['Energy']\n",
    "# Crear una copia profunda del DataFrame wind_ava_sotavento\n",
    "dataset_3 = copy.deepcopy(wind_ava_sotavento)\n",
    "dataset_2 = dataset_3[\"Energy\"]\n",
    "dataset_1.info()\n",
    "dataset_2.info()\n",
    "\n",
    "x_train, x_test, y_train, y_test = train_test_split(dataset_1, dataset_2, test_size=0.33, random_state=42)\n"
   ]
  },
  {
   "cell_type": "markdown",
   "metadata": {},
   "source": [
    "# SVM: Evaluación con hiperparámetros por omisión"
   ]
  },
  {
   "cell_type": "code",
   "execution_count": 7,
   "metadata": {},
   "outputs": [
    {
     "name": "stdout",
     "output_type": "stream",
     "text": [
      "El modelo SVR con hiperparámetros por omisión ha obtenido una media de resultado de 0.047713612563\n",
      "Como errores:\n",
      "\tRMSE\t= 648.1658531998673\n",
      "\tMAE\t= 488.9170329051875\n",
      "El tiempo de ejecucion ha sido de 0.49689722061157227\n"
     ]
    }
   ],
   "source": [
    "# Creamos la clase de SVR\n",
    "t_inicio = time.time() # Guardamos el tiempo inicial\n",
    "svr = SVR()\n",
    "pipe = Pipeline([('SVM', svr)])\n",
    "\n",
    "pipe.fit(x_train, y_train) # Se entrena el modelo\n",
    "accuracy_train_svr_og = pipe.score(x_test, y_test)  # Se obtiene el resultado de aciertos\n",
    "t_fin = time.time() # Guardamos el tiempo final\n",
    "print('El modelo SVR con hiperparámetros por omisión ha obtenido una media de resultado de {:.12f}'.format(accuracy_train_svr_og))\n",
    "# Miramos sus errores\n",
    "prediction = pipe.predict(x_test)\n",
    "error_rmse_svr_og = sqrt(mean_squared_error(y_test, prediction))\n",
    "error_mae_svr_og = mean_absolute_error(y_test, prediction)\n",
    "print('Como errores:\\n\\tRMSE\\t= {}\\n\\tMAE\\t= {}'.format(error_rmse_svr_og, error_mae_svr_og))\n",
    "t_svr_og = t_fin - t_inicio\n",
    "print('El tiempo de ejecucion ha sido de {}'.format(t_svr_og))"
   ]
  },
  {
   "cell_type": "markdown",
   "metadata": {},
   "source": [
    "LinearSVR"
   ]
  },
  {
   "cell_type": "code",
   "execution_count": 9,
   "metadata": {},
   "outputs": [
    {
     "name": "stdout",
     "output_type": "stream",
     "text": [
      "El modelo LinearSVR con hiperparámetros por omisión ha obtenido una media de resultado de -0.18\n",
      "Como errores:\n",
      "\tRMSE\t= 720.0990725993651\n",
      "\tMAE\t= 514.4958279030099\n",
      "El tiempo de ejecucion ha sido de 0.16043710708618164\n"
     ]
    },
    {
     "name": "stderr",
     "output_type": "stream",
     "text": [
      "c:\\Users\\aitan\\AppData\\Local\\Programs\\Python\\Python310\\lib\\site-packages\\sklearn\\svm\\_classes.py:31: FutureWarning: The default value of `dual` will change from `True` to `'auto'` in 1.5. Set the value of `dual` explicitly to suppress the warning.\n",
      "  warnings.warn(\n"
     ]
    }
   ],
   "source": [
    "# Creamos la clase de LinearSVR\n",
    "t_inicio = time.time() # Guardamos el tiempo inicial\n",
    "svr = LinearSVR()\n",
    "\n",
    "svr.fit(x_train,y_train) # Se entrena el modelo\n",
    "accuracy_train_lsvr_og = svr.score(x_test, y_test)  # Se obtiene el resultado de aciertos\n",
    "t_fin = time.time() # Guardamos el tiempo final\n",
    "print('El modelo LinearSVR con hiperparámetros por omisión ha obtenido una media de resultado de {:.2f}'.format(accuracy_train_lsvr_og))\n",
    "# Miramos sus errores\n",
    "prediction = svr.predict(x_test)\n",
    "error_rmse_lsvr_og = sqrt(mean_squared_error(y_test, prediction))\n",
    "error_mae_lsvr_og = mean_absolute_error(y_test, prediction)\n",
    "print('Como errores:\\n\\tRMSE\\t= {}\\n\\tMAE\\t= {}'.format(error_rmse_lsvr_og, error_mae_lsvr_og))\n",
    "t_lsvr_og = t_fin - t_inicio\n",
    "print('El tiempo de ejecucion ha sido de {}'.format(t_lsvr_og))"
   ]
  },
  {
   "cell_type": "markdown",
   "metadata": {},
   "source": [
    "NuSVR"
   ]
  },
  {
   "cell_type": "code",
   "execution_count": 10,
   "metadata": {},
   "outputs": [
    {
     "name": "stdout",
     "output_type": "stream",
     "text": [
      "El modelo NuSVR con hiperparámetros por omisión ha obtenido una media de resultado de 0.10\n",
      "Como errores:\n",
      "\tRMSE\t= 628.7370541413912\n",
      "\tMAE\t= 506.96909680449835\n",
      "El tiempo de ejecucion ha sido de 0.2984771728515625\n"
     ]
    }
   ],
   "source": [
    "t_inicio = time.time() # Guardamos el tiempo inicial\n",
    "svr = NuSVR()\n",
    "np.random.seed(42)  # Para la toma de decisión entre varios puntos\n",
    "svr.fit(x_train,y_train) # Se entrena el modelo\n",
    "accuracy_train_nusvr_og = svr.score(x_test, y_test)  # Se obtiene el resultado de aciertos\n",
    "t_fin = time.time() # Guardamos el tiempo final\n",
    "print('El modelo NuSVR con hiperparámetros por omisión ha obtenido una media de resultado de {:.2f}'.format(accuracy_train_nusvr_og))\n",
    "# Miramos sus errores\n",
    "prediction = svr.predict(x_test)\n",
    "error_rmse_nusvr_og = sqrt(mean_squared_error(y_test, prediction))\n",
    "error_mae_nusvr_og = mean_absolute_error(y_test, prediction)\n",
    "print('Como errores:\\n\\tRMSE\\t= {}\\n\\tMAE\\t= {}'.format(error_rmse_nusvr_og, error_mae_nusvr_og))\n",
    "t_nusvr_og = t_fin - t_inicio\n",
    "print('El tiempo de ejecucion ha sido de {}'.format(t_nusvr_og))"
   ]
  },
  {
   "cell_type": "markdown",
   "metadata": {},
   "source": [
    "Resultados:"
   ]
  },
  {
   "cell_type": "code",
   "execution_count": 11,
   "metadata": {},
   "outputs": [
    {
     "name": "stdout",
     "output_type": "stream",
     "text": [
      "El modelo SVR con hiperparámetros por omisión ha obtenido una media de resultado de 0.05\n",
      "Como errores:\n",
      "\tRMSE\t= 648.1658531998673\n",
      "\tMAE\t= 488.9170329051875\n",
      "El tiempo de ejecucion ha sido de 0.49689722061157227\n",
      "\n",
      "El modelo LinearSVR con hiperparámetros por omisión ha obtenido una media de resultado de -0.18\n",
      "Como errores:\n",
      "\tRMSE\t= 720.0990725993651\n",
      "\tMAE\t= 514.4958279030099\n",
      "El tiempo de ejecucion ha sido de 0.16043710708618164\n",
      "\n",
      "El modelo NuSVR con hiperparámetros por omisión ha obtenido una media de resultado de 0.10\n",
      "Como errores:\n",
      "\tRMSE\t= 628.7370541413912\n",
      "\tMAE\t= 506.96909680449835\n",
      "El tiempo de ejecucion ha sido de 0.2984771728515625\n"
     ]
    }
   ],
   "source": [
    "print('El modelo SVR con hiperparámetros por omisión ha obtenido una media de resultado de {:.2f}'.format(accuracy_train_svr_og))\n",
    "print('Como errores:\\n\\tRMSE\\t= {}\\n\\tMAE\\t= {}'.format(error_rmse_svr_og, error_mae_svr_og))\n",
    "print('El tiempo de ejecucion ha sido de {}'.format(t_svr_og))\n",
    "print(\"\")\n",
    "print('El modelo LinearSVR con hiperparámetros por omisión ha obtenido una media de resultado de {:.2f}'.format(accuracy_train_lsvr_og))\n",
    "print('Como errores:\\n\\tRMSE\\t= {}\\n\\tMAE\\t= {}'.format(error_rmse_lsvr_og, error_mae_lsvr_og))\n",
    "print('El tiempo de ejecucion ha sido de {}'.format(t_lsvr_og))\n",
    "print(\"\")\n",
    "print('El modelo NuSVR con hiperparámetros por omisión ha obtenido una media de resultado de {:.2f}'.format(accuracy_train_nusvr_og))\n",
    "print('Como errores:\\n\\tRMSE\\t= {}\\n\\tMAE\\t= {}'.format(error_rmse_nusvr_og, error_mae_nusvr_og))\n",
    "print('El tiempo de ejecucion ha sido de {}'.format(t_nusvr_og))"
   ]
  }
 ],
 "metadata": {
  "kernelspec": {
   "display_name": "Python 3",
   "language": "python",
   "name": "python3"
  },
  "language_info": {
   "codemirror_mode": {
    "name": "ipython",
    "version": 3
   },
   "file_extension": ".py",
   "mimetype": "text/x-python",
   "name": "python",
   "nbconvert_exporter": "python",
   "pygments_lexer": "ipython3",
   "version": "3.10.9"
  }
 },
 "nbformat": 4,
 "nbformat_minor": 2
}
